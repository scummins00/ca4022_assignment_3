{
 "cells": [
  {
   "cell_type": "markdown",
   "metadata": {},
   "source": [
    "# State Level Salary Comparison\n",
    "In this notebook, we will be breaking down the salary expectation of *Science*, *Technology*, *Engineering*, and *Mathematics* (STEM) related positions. We will be performing this analysis by using a dataset [available online](https://www.kaggle.com/jackogozaly/data-science-and-stem-salaries).\n",
    "\n",
    "Specifically, we will be comparing the salaries of STEM related positions at a state-level. We have certain expectations going into this analysis, such as California having a higher average salary than other states.\n",
    "\n",
    "It should be noted that our dataset is not restricted to the USA. It will be interesting to see a comparison between the salaries received in America vs Europe for similar positions.\n",
    "\n",
    "---\n",
    "\n",
    "## Data Preparation\n",
    "The next few cells are for importing necessary packages, as well as defining our schema and loading in our data. "
   ]
  },
  {
   "cell_type": "code",
   "execution_count": 1,
   "metadata": {},
   "outputs": [],
   "source": [
    "#Let's read in our packages\n",
    "import findspark\n",
    "findspark.init()"
   ]
  },
  {
   "cell_type": "code",
   "execution_count": 2,
   "metadata": {},
   "outputs": [],
   "source": [
    "import pyspark\n",
    "from pyspark.sql.functions import *\n",
    "from pyspark.sql.types import *\n",
    "from pyspark.sql import SparkSession, Row\n",
    "from pyspark import SparkConf\n",
    "\n",
    "import pandas as pd\n",
    "import numpy as np"
   ]
  },
  {
   "cell_type": "code",
   "execution_count": 3,
   "metadata": {},
   "outputs": [],
   "source": [
    "#Instantiate a spark session\n",
    "spark = SparkSession \\\n",
    "    .builder \\\n",
    "    .appName(\"Spark State-Level Salary Analysis\") \\\n",
    "    .getOrCreate()"
   ]
  },
  {
   "cell_type": "code",
   "execution_count": 4,
   "metadata": {},
   "outputs": [
    {
     "name": "stdout",
     "output_type": "stream",
     "text": [
      "+----------+--------+---------+-----+--------------------+-----------------------+-----------------+-----------------+--------------+---+----------+---------------+-----+------+------+-----+----+---------+\n",
      "|      date|    time|  company|level|               title|totalyearlycompensation|         location|yearsofexperience|yearsatcompany|tag|basesalary|stockgrantvalue|bonus|gender|cityid|dmaid|race|education|\n",
      "+----------+--------+---------+-----+--------------------+-----------------------+-----------------+-----------------+--------------+---+----------+---------------+-----+------+------+-----+----+---------+\n",
      "|2017-06-07|   11:33|   ORACLE|   L3|     Product Manager|                 127000| Redwood City, CA|              1.5|           1.5| NA|    107000|          20000|10000|    NA|  7392|  807|  NA|       NA|\n",
      "|2017-06-10|   17:11|     EBAY| SE 2|   Software Engineer|                 100000|San Francisco, CA|              5.0|           3.0| NA|    141907|              0|    0|    NA|  7419|  807|  NA|       NA|\n",
      "|2017-06-11|   14:53|   AMAZON|   L7|     Product Manager|                 310000|      Seattle, WA|              8.0|           0.0| NA|    155000|              0|    0|    NA| 11527|  819|  NA|       NA|\n",
      "|2017-06-17| 0:23:14|    APPLE|   M1|Software Engineer...|                 372000|    Sunnyvale, CA|              7.0|           5.0| NA|    157000|         180000|35000|    NA|  7472|  807|  NA|       NA|\n",
      "|2017-06-20|10:58:51|MICROSOFT|   60|   Software Engineer|                 157000|Mountain View, CA|              5.0|           3.0| NA|    141907|              0|    0|    NA|  7322|  807|  NA|       NA|\n",
      "+----------+--------+---------+-----+--------------------+-----------------------+-----------------+-----------------+--------------+---+----------+---------------+-----+------+------+-----+----+---------+\n",
      "only showing top 5 rows\n",
      "\n"
     ]
    }
   ],
   "source": [
    "# Let's define our schema\n",
    "schema = StructType([\\\n",
    "    StructField(\"date\", DateType(), True),\\\n",
    "    StructField(\"time\", StringType(), True),\\\n",
    "    StructField(\"company\", StringType(), True),\\\n",
    "    StructField(\"level\", StringType(), True),\\\n",
    "    StructField(\"title\", StringType(), True),\\\n",
    "    StructField(\"totalyearlycompensation\", IntegerType(), False),\\\n",
    "    StructField(\"location\", StringType(), True),\\\n",
    "    StructField(\"yearsofexperience\", FloatType(), False),\\\n",
    "    StructField(\"yearsatcompany\", FloatType(), False),\\\n",
    "    StructField(\"tag\", StringType(), True),\\\n",
    "    StructField(\"basesalary\", IntegerType(), False),\\\n",
    "    StructField(\"stockgrantvalue\", IntegerType(), False),\\\n",
    "    StructField(\"bonus\", IntegerType(), False),\\\n",
    "    StructField(\"gender\", StringType(), True),\\\n",
    "    StructField(\"cityid\", StringType(), True),\\\n",
    "    StructField(\"dmaid\", StringType(), True),\\\n",
    "    StructField(\"race\", StringType(), True),\\\n",
    "    StructField(\"education\", StringType(), True)])\n",
    "\n",
    "# Load and parse the data file, converting it to a DataFrame.\n",
    "data = spark.read.format(\"csv\")\\\n",
    "    .option(\"header\", \"false\")\\\n",
    "    .option(\"delimiter\", \"\\t\")\\\n",
    "    .schema(schema)\\\n",
    "    .load(\"../data/seperated_time_data/cleaned.txt\")\n",
    "data.show(n=5)"
   ]
  },
  {
   "cell_type": "markdown",
   "metadata": {},
   "source": [
    "The first thing we'd like to look at is how many unique locations do we have? We must remember that we are trying to work at state-level, so any locations with the same state should be considered as part of the same group. From viewing the *location* column in the snippet above, we see that states are denoted by their **2 leter acronym** at the end of the location text.\n",
    "\n",
    "Let's also try to inspect the strings for locations outside of the United States."
   ]
  },
  {
   "cell_type": "code",
   "execution_count": 5,
   "metadata": {},
   "outputs": [
    {
     "name": "stdout",
     "output_type": "stream",
     "text": [
      "+----------+-----+-------+-----+-----------------+-----------------------+-----------------+-----------------+--------------+---+----------+---------------+-----+------+------+-----+----+---------+-----+\n",
      "|      date| time|company|level|            title|totalyearlycompensation|         location|yearsofexperience|yearsatcompany|tag|basesalary|stockgrantvalue|bonus|gender|cityid|dmaid|race|education|state|\n",
      "+----------+-----+-------+-----+-----------------+-----------------------+-----------------+-----------------+--------------+---+----------+---------------+-----+------+------+-----+----+---------+-----+\n",
      "|2017-06-07|11:33| ORACLE|   L3|  Product Manager|                 127000| Redwood City, CA|              1.5|           1.5| NA|    107000|          20000|10000|    NA|  7392|  807|  NA|       NA|   CA|\n",
      "|2017-06-10|17:11|   EBAY| SE 2|Software Engineer|                 100000|San Francisco, CA|              5.0|           3.0| NA|    141907|              0|    0|    NA|  7419|  807|  NA|       NA|   CA|\n",
      "+----------+-----+-------+-----+-----------------+-----------------------+-----------------+-----------------+--------------+---+----------+---------------+-----+------+------+-----+----+---------+-----+\n",
      "only showing top 2 rows\n",
      "\n"
     ]
    }
   ],
   "source": [
    "split_location = split(data['location'], ', ')\n",
    "data_with_state = data.withColumn('state', split_location.getItem(1))\n",
    "data_with_state.show(n=2)"
   ]
  },
  {
   "cell_type": "markdown",
   "metadata": {},
   "source": [
    "## American States\n",
    "In the above snippet, you can see that we've added a **state** column to each row. We can now groupby this column, and find averages for each of our monetary columns.\n",
    "\n",
    "Once, we group are initial dataframe by state ID, we'll create a new dataframe to represent the averages of the monetary values for that given state. We will then seperate out the entries representing American States only. We must also round our averages up to 1 decimal place to make things more readable."
   ]
  },
  {
   "cell_type": "code",
   "execution_count": 6,
   "metadata": {},
   "outputs": [
    {
     "data": {
      "text/plain": [
       "201"
      ]
     },
     "execution_count": 6,
     "metadata": {},
     "output_type": "execute_result"
    }
   ],
   "source": [
    "#Get list of rows, each entry represents a state\n",
    "averages = data_with_state['state', 'location', 'totalyearlycompensation',\n",
    "                           'basesalary', 'stockgrantvalue', 'bonus']\\\n",
    "    .groupBy('state')\\\n",
    "    .avg().collect()\n",
    "len(averages)"
   ]
  },
  {
   "cell_type": "code",
   "execution_count": 7,
   "metadata": {},
   "outputs": [],
   "source": [
    "#Create dataframe from rows\n",
    "averages_df = spark.createDataFrame(averages)"
   ]
  },
  {
   "cell_type": "code",
   "execution_count": 8,
   "metadata": {},
   "outputs": [
    {
     "name": "stdout",
     "output_type": "stream",
     "text": [
      "+-----+----------------------------+------------------+--------------------+------------------+\n",
      "|state|avg(totalyearlycompensation)|   avg(basesalary)|avg(stockgrantvalue)|        avg(bonus)|\n",
      "+-----+----------------------------+------------------+--------------------+------------------+\n",
      "|   SC|           94168.83116883117| 81374.20779220779|  6844.1558441558445| 7779.220779220779|\n",
      "|   AZ|          149707.12401055408|115676.38258575198|  19023.746701846965|13936.675461741424|\n",
      "+-----+----------------------------+------------------+--------------------+------------------+\n",
      "only showing top 2 rows\n",
      "\n"
     ]
    }
   ],
   "source": [
    "#Seperate out american state entries\n",
    "\n",
    "states = [ 'AK', 'AL', 'AR', 'AZ', 'CA', 'CO', 'CT', 'DC', 'DE', 'FL', 'GA',\n",
    "           'HI', 'IA', 'ID', 'IL', 'IN', 'KS', 'KY', 'LA', 'MA', 'MD', 'ME',\n",
    "           'MI', 'MN', 'MO', 'MS', 'MT', 'NC', 'ND', 'NE', 'NH', 'NJ', 'NM',\n",
    "           'NV', 'NY', 'OH', 'OK', 'OR', 'PA', 'RI', 'SC', 'SD', 'TN', 'TX',\n",
    "           'UT', 'VA', 'VT', 'WA', 'WI', 'WV', 'WY']\n",
    "\n",
    "american_averages_df = spark.createDataFrame(averages_df.filter(averages_df.state.isin(states)).collect())\n",
    "american_averages_df.show(n=2)"
   ]
  },
  {
   "cell_type": "code",
   "execution_count": 9,
   "metadata": {},
   "outputs": [
    {
     "name": "stdout",
     "output_type": "stream",
     "text": [
      "+-----+----------------------------+---------------+--------------------+----------+\n",
      "|state|avg(totalyearlycompensation)|avg(basesalary)|avg(stockgrantvalue)|avg(bonus)|\n",
      "+-----+----------------------------+---------------+--------------------+----------+\n",
      "|   SC|                     94169.0|        81374.0|              6844.0|    7779.0|\n",
      "|   AZ|                    149707.0|       115676.0|             19024.0|   13937.0|\n",
      "|   LA|                     97040.0|        77520.0|             12400.0|    7040.0|\n",
      "|   MN|                    146403.0|       122843.0|             10112.0|   13147.0|\n",
      "|   NJ|                    169752.0|       135162.0|             15022.0|   19357.0|\n",
      "+-----+----------------------------+---------------+--------------------+----------+\n",
      "only showing top 5 rows\n",
      "\n"
     ]
    }
   ],
   "source": [
    "#Now we want to round all our values to 1 decimal place\n",
    "for c in american_averages_df.columns[1:]:\n",
    "    american_averages_df = american_averages_df.withColumn(c, round(c, 0))\n",
    "\n",
    "american_averages_df.show(n=5)"
   ]
  },
  {
   "cell_type": "markdown",
   "metadata": {},
   "source": [
    "### American State Compensation\n",
    "As expected, according to our data, Californian STEM employees receive on average the highest yearly compensation. Washington follows closely in second, and New York state is third. Beyond the third entry we see a sharp decline in total compensation, with Michigan appearing in 4th place. \n",
    "\n",
    "Let's use `matplotlib` to create a choropleth map of America displaying the annual yearly compensation per state."
   ]
  },
  {
   "cell_type": "code",
   "execution_count": 10,
   "metadata": {},
   "outputs": [
    {
     "data": {
      "text/html": [
       "        <script type=\"text/javascript\">\n",
       "        window.PlotlyConfig = {MathJaxConfig: 'local'};\n",
       "        if (window.MathJax) {MathJax.Hub.Config({SVG: {font: \"STIX-Web\"}});}\n",
       "        if (typeof require !== 'undefined') {\n",
       "        require.undef(\"plotly\");\n",
       "        requirejs.config({\n",
       "            paths: {\n",
       "                'plotly': ['https://cdn.plot.ly/plotly-2.6.3.min']\n",
       "            }\n",
       "        });\n",
       "        require(['plotly'], function(Plotly) {\n",
       "            window._Plotly = Plotly;\n",
       "        });\n",
       "        }\n",
       "        </script>\n",
       "        "
      ]
     },
     "metadata": {},
     "output_type": "display_data"
    }
   ],
   "source": [
    "from chart_studio import plotly as py\n",
    "import plotly.graph_objects as go\n",
    "import matplotlib.pyplot as plt\n",
    "import plotly.figure_factory as ff\n",
    "from plotly.offline import download_plotlyjs, init_notebook_mode, plot, iplot\n",
    "init_notebook_mode(connected=True)"
   ]
  },
  {
   "cell_type": "code",
   "execution_count": 11,
   "metadata": {},
   "outputs": [
    {
     "data": {
      "text/html": [
       "<div>\n",
       "<style scoped>\n",
       "    .dataframe tbody tr th:only-of-type {\n",
       "        vertical-align: middle;\n",
       "    }\n",
       "\n",
       "    .dataframe tbody tr th {\n",
       "        vertical-align: top;\n",
       "    }\n",
       "\n",
       "    .dataframe thead th {\n",
       "        text-align: right;\n",
       "    }\n",
       "</style>\n",
       "<table border=\"1\" class=\"dataframe\">\n",
       "  <thead>\n",
       "    <tr style=\"text-align: right;\">\n",
       "      <th></th>\n",
       "      <th>state</th>\n",
       "      <th>total comp</th>\n",
       "      <th>base sal</th>\n",
       "      <th>sg val</th>\n",
       "      <th>bonus</th>\n",
       "    </tr>\n",
       "  </thead>\n",
       "  <tbody>\n",
       "    <tr>\n",
       "      <th>0</th>\n",
       "      <td>SC</td>\n",
       "      <td>94169.0</td>\n",
       "      <td>81374.0</td>\n",
       "      <td>6844.0</td>\n",
       "      <td>7779.0</td>\n",
       "    </tr>\n",
       "    <tr>\n",
       "      <th>1</th>\n",
       "      <td>AZ</td>\n",
       "      <td>149707.0</td>\n",
       "      <td>115676.0</td>\n",
       "      <td>19024.0</td>\n",
       "      <td>13937.0</td>\n",
       "    </tr>\n",
       "  </tbody>\n",
       "</table>\n",
       "</div>"
      ],
      "text/plain": [
       "  state  total comp  base sal   sg val    bonus\n",
       "0    SC     94169.0   81374.0   6844.0   7779.0\n",
       "1    AZ    149707.0  115676.0  19024.0  13937.0"
      ]
     },
     "execution_count": 11,
     "metadata": {},
     "output_type": "execute_result"
    }
   ],
   "source": [
    "#Let's convert our pyspark dataframe to a pandas df for visualisation\n",
    "pandasdf = american_averages_df.toPandas()\n",
    "pandasdf.rename(columns={'avg(totalyearlycompensation)':'total comp', 'avg(basesalary)':'base sal',\n",
    "                         'avg(stockgrantvalue)': 'sg val', 'avg(bonus)':'bonus'}, inplace=True)\n",
    "pandasdf.head(2)"
   ]
  },
  {
   "cell_type": "code",
   "execution_count": 12,
   "metadata": {},
   "outputs": [
    {
     "data": {
      "application/vnd.plotly.v1+json": {
       "config": {
        "plotlyServerURL": "https://plot.ly"
       },
       "data": [
        {
         "colorbar": {
          "title": {
           "text": "Thousands USD"
          }
         },
         "colorscale": [
          [
           0,
           "rgb(247,251,255)"
          ],
          [
           0.125,
           "rgb(222,235,247)"
          ],
          [
           0.25,
           "rgb(198,219,239)"
          ],
          [
           0.375,
           "rgb(158,202,225)"
          ],
          [
           0.5,
           "rgb(107,174,214)"
          ],
          [
           0.625,
           "rgb(66,146,198)"
          ],
          [
           0.75,
           "rgb(33,113,181)"
          ],
          [
           0.875,
           "rgb(8,81,156)"
          ],
          [
           1,
           "rgb(8,48,107)"
          ]
         ],
         "locationmode": "USA-states",
         "locations": [
          "SC",
          "AZ",
          "LA",
          "MN",
          "NJ",
          "DC",
          "OR",
          "VA",
          "RI",
          "KY",
          "WY",
          "NH",
          "MI",
          "NV",
          "WI",
          "ID",
          "CA",
          "NE",
          "CT",
          "MT",
          "NC",
          "VT",
          "MD",
          "DE",
          "MO",
          "IL",
          "ME",
          "WA",
          "ND",
          "MS",
          "AL",
          "IN",
          "OH",
          "TN",
          "NM",
          "IA",
          "PA",
          "NY",
          "TX",
          "WV",
          "GA",
          "MA",
          "KS",
          "CO",
          "FL",
          "AR",
          "OK",
          "UT",
          "HI"
         ],
         "type": "choropleth",
         "z": [
          94169,
          149707,
          97040,
          146403,
          169752,
          171189,
          185047,
          166277,
          114792,
          132480,
          156000,
          134931,
          133399,
          134167,
          134689,
          150244,
          271511,
          120077,
          117089,
          155429,
          158635,
          118000,
          127229,
          121949,
          114453,
          164735,
          110750,
          245072,
          126400,
          113333,
          127960,
          138910,
          132391,
          85814,
          140200,
          127065,
          165938,
          227358,
          164141,
          110636,
          155848,
          192501,
          118973,
          192476,
          145755,
          151531,
          110333,
          155558,
          194000
         ]
        }
       ],
       "layout": {
        "geo": {
         "scope": "usa"
        },
        "template": {
         "data": {
          "bar": [
           {
            "error_x": {
             "color": "#2a3f5f"
            },
            "error_y": {
             "color": "#2a3f5f"
            },
            "marker": {
             "line": {
              "color": "#E5ECF6",
              "width": 0.5
             },
             "pattern": {
              "fillmode": "overlay",
              "size": 10,
              "solidity": 0.2
             }
            },
            "type": "bar"
           }
          ],
          "barpolar": [
           {
            "marker": {
             "line": {
              "color": "#E5ECF6",
              "width": 0.5
             },
             "pattern": {
              "fillmode": "overlay",
              "size": 10,
              "solidity": 0.2
             }
            },
            "type": "barpolar"
           }
          ],
          "carpet": [
           {
            "aaxis": {
             "endlinecolor": "#2a3f5f",
             "gridcolor": "white",
             "linecolor": "white",
             "minorgridcolor": "white",
             "startlinecolor": "#2a3f5f"
            },
            "baxis": {
             "endlinecolor": "#2a3f5f",
             "gridcolor": "white",
             "linecolor": "white",
             "minorgridcolor": "white",
             "startlinecolor": "#2a3f5f"
            },
            "type": "carpet"
           }
          ],
          "choropleth": [
           {
            "colorbar": {
             "outlinewidth": 0,
             "ticks": ""
            },
            "type": "choropleth"
           }
          ],
          "contour": [
           {
            "colorbar": {
             "outlinewidth": 0,
             "ticks": ""
            },
            "colorscale": [
             [
              0,
              "#0d0887"
             ],
             [
              0.1111111111111111,
              "#46039f"
             ],
             [
              0.2222222222222222,
              "#7201a8"
             ],
             [
              0.3333333333333333,
              "#9c179e"
             ],
             [
              0.4444444444444444,
              "#bd3786"
             ],
             [
              0.5555555555555556,
              "#d8576b"
             ],
             [
              0.6666666666666666,
              "#ed7953"
             ],
             [
              0.7777777777777778,
              "#fb9f3a"
             ],
             [
              0.8888888888888888,
              "#fdca26"
             ],
             [
              1,
              "#f0f921"
             ]
            ],
            "type": "contour"
           }
          ],
          "contourcarpet": [
           {
            "colorbar": {
             "outlinewidth": 0,
             "ticks": ""
            },
            "type": "contourcarpet"
           }
          ],
          "heatmap": [
           {
            "colorbar": {
             "outlinewidth": 0,
             "ticks": ""
            },
            "colorscale": [
             [
              0,
              "#0d0887"
             ],
             [
              0.1111111111111111,
              "#46039f"
             ],
             [
              0.2222222222222222,
              "#7201a8"
             ],
             [
              0.3333333333333333,
              "#9c179e"
             ],
             [
              0.4444444444444444,
              "#bd3786"
             ],
             [
              0.5555555555555556,
              "#d8576b"
             ],
             [
              0.6666666666666666,
              "#ed7953"
             ],
             [
              0.7777777777777778,
              "#fb9f3a"
             ],
             [
              0.8888888888888888,
              "#fdca26"
             ],
             [
              1,
              "#f0f921"
             ]
            ],
            "type": "heatmap"
           }
          ],
          "heatmapgl": [
           {
            "colorbar": {
             "outlinewidth": 0,
             "ticks": ""
            },
            "colorscale": [
             [
              0,
              "#0d0887"
             ],
             [
              0.1111111111111111,
              "#46039f"
             ],
             [
              0.2222222222222222,
              "#7201a8"
             ],
             [
              0.3333333333333333,
              "#9c179e"
             ],
             [
              0.4444444444444444,
              "#bd3786"
             ],
             [
              0.5555555555555556,
              "#d8576b"
             ],
             [
              0.6666666666666666,
              "#ed7953"
             ],
             [
              0.7777777777777778,
              "#fb9f3a"
             ],
             [
              0.8888888888888888,
              "#fdca26"
             ],
             [
              1,
              "#f0f921"
             ]
            ],
            "type": "heatmapgl"
           }
          ],
          "histogram": [
           {
            "marker": {
             "pattern": {
              "fillmode": "overlay",
              "size": 10,
              "solidity": 0.2
             }
            },
            "type": "histogram"
           }
          ],
          "histogram2d": [
           {
            "colorbar": {
             "outlinewidth": 0,
             "ticks": ""
            },
            "colorscale": [
             [
              0,
              "#0d0887"
             ],
             [
              0.1111111111111111,
              "#46039f"
             ],
             [
              0.2222222222222222,
              "#7201a8"
             ],
             [
              0.3333333333333333,
              "#9c179e"
             ],
             [
              0.4444444444444444,
              "#bd3786"
             ],
             [
              0.5555555555555556,
              "#d8576b"
             ],
             [
              0.6666666666666666,
              "#ed7953"
             ],
             [
              0.7777777777777778,
              "#fb9f3a"
             ],
             [
              0.8888888888888888,
              "#fdca26"
             ],
             [
              1,
              "#f0f921"
             ]
            ],
            "type": "histogram2d"
           }
          ],
          "histogram2dcontour": [
           {
            "colorbar": {
             "outlinewidth": 0,
             "ticks": ""
            },
            "colorscale": [
             [
              0,
              "#0d0887"
             ],
             [
              0.1111111111111111,
              "#46039f"
             ],
             [
              0.2222222222222222,
              "#7201a8"
             ],
             [
              0.3333333333333333,
              "#9c179e"
             ],
             [
              0.4444444444444444,
              "#bd3786"
             ],
             [
              0.5555555555555556,
              "#d8576b"
             ],
             [
              0.6666666666666666,
              "#ed7953"
             ],
             [
              0.7777777777777778,
              "#fb9f3a"
             ],
             [
              0.8888888888888888,
              "#fdca26"
             ],
             [
              1,
              "#f0f921"
             ]
            ],
            "type": "histogram2dcontour"
           }
          ],
          "mesh3d": [
           {
            "colorbar": {
             "outlinewidth": 0,
             "ticks": ""
            },
            "type": "mesh3d"
           }
          ],
          "parcoords": [
           {
            "line": {
             "colorbar": {
              "outlinewidth": 0,
              "ticks": ""
             }
            },
            "type": "parcoords"
           }
          ],
          "pie": [
           {
            "automargin": true,
            "type": "pie"
           }
          ],
          "scatter": [
           {
            "marker": {
             "colorbar": {
              "outlinewidth": 0,
              "ticks": ""
             }
            },
            "type": "scatter"
           }
          ],
          "scatter3d": [
           {
            "line": {
             "colorbar": {
              "outlinewidth": 0,
              "ticks": ""
             }
            },
            "marker": {
             "colorbar": {
              "outlinewidth": 0,
              "ticks": ""
             }
            },
            "type": "scatter3d"
           }
          ],
          "scattercarpet": [
           {
            "marker": {
             "colorbar": {
              "outlinewidth": 0,
              "ticks": ""
             }
            },
            "type": "scattercarpet"
           }
          ],
          "scattergeo": [
           {
            "marker": {
             "colorbar": {
              "outlinewidth": 0,
              "ticks": ""
             }
            },
            "type": "scattergeo"
           }
          ],
          "scattergl": [
           {
            "marker": {
             "colorbar": {
              "outlinewidth": 0,
              "ticks": ""
             }
            },
            "type": "scattergl"
           }
          ],
          "scattermapbox": [
           {
            "marker": {
             "colorbar": {
              "outlinewidth": 0,
              "ticks": ""
             }
            },
            "type": "scattermapbox"
           }
          ],
          "scatterpolar": [
           {
            "marker": {
             "colorbar": {
              "outlinewidth": 0,
              "ticks": ""
             }
            },
            "type": "scatterpolar"
           }
          ],
          "scatterpolargl": [
           {
            "marker": {
             "colorbar": {
              "outlinewidth": 0,
              "ticks": ""
             }
            },
            "type": "scatterpolargl"
           }
          ],
          "scatterternary": [
           {
            "marker": {
             "colorbar": {
              "outlinewidth": 0,
              "ticks": ""
             }
            },
            "type": "scatterternary"
           }
          ],
          "surface": [
           {
            "colorbar": {
             "outlinewidth": 0,
             "ticks": ""
            },
            "colorscale": [
             [
              0,
              "#0d0887"
             ],
             [
              0.1111111111111111,
              "#46039f"
             ],
             [
              0.2222222222222222,
              "#7201a8"
             ],
             [
              0.3333333333333333,
              "#9c179e"
             ],
             [
              0.4444444444444444,
              "#bd3786"
             ],
             [
              0.5555555555555556,
              "#d8576b"
             ],
             [
              0.6666666666666666,
              "#ed7953"
             ],
             [
              0.7777777777777778,
              "#fb9f3a"
             ],
             [
              0.8888888888888888,
              "#fdca26"
             ],
             [
              1,
              "#f0f921"
             ]
            ],
            "type": "surface"
           }
          ],
          "table": [
           {
            "cells": {
             "fill": {
              "color": "#EBF0F8"
             },
             "line": {
              "color": "white"
             }
            },
            "header": {
             "fill": {
              "color": "#C8D4E3"
             },
             "line": {
              "color": "white"
             }
            },
            "type": "table"
           }
          ]
         },
         "layout": {
          "annotationdefaults": {
           "arrowcolor": "#2a3f5f",
           "arrowhead": 0,
           "arrowwidth": 1
          },
          "autotypenumbers": "strict",
          "coloraxis": {
           "colorbar": {
            "outlinewidth": 0,
            "ticks": ""
           }
          },
          "colorscale": {
           "diverging": [
            [
             0,
             "#8e0152"
            ],
            [
             0.1,
             "#c51b7d"
            ],
            [
             0.2,
             "#de77ae"
            ],
            [
             0.3,
             "#f1b6da"
            ],
            [
             0.4,
             "#fde0ef"
            ],
            [
             0.5,
             "#f7f7f7"
            ],
            [
             0.6,
             "#e6f5d0"
            ],
            [
             0.7,
             "#b8e186"
            ],
            [
             0.8,
             "#7fbc41"
            ],
            [
             0.9,
             "#4d9221"
            ],
            [
             1,
             "#276419"
            ]
           ],
           "sequential": [
            [
             0,
             "#0d0887"
            ],
            [
             0.1111111111111111,
             "#46039f"
            ],
            [
             0.2222222222222222,
             "#7201a8"
            ],
            [
             0.3333333333333333,
             "#9c179e"
            ],
            [
             0.4444444444444444,
             "#bd3786"
            ],
            [
             0.5555555555555556,
             "#d8576b"
            ],
            [
             0.6666666666666666,
             "#ed7953"
            ],
            [
             0.7777777777777778,
             "#fb9f3a"
            ],
            [
             0.8888888888888888,
             "#fdca26"
            ],
            [
             1,
             "#f0f921"
            ]
           ],
           "sequentialminus": [
            [
             0,
             "#0d0887"
            ],
            [
             0.1111111111111111,
             "#46039f"
            ],
            [
             0.2222222222222222,
             "#7201a8"
            ],
            [
             0.3333333333333333,
             "#9c179e"
            ],
            [
             0.4444444444444444,
             "#bd3786"
            ],
            [
             0.5555555555555556,
             "#d8576b"
            ],
            [
             0.6666666666666666,
             "#ed7953"
            ],
            [
             0.7777777777777778,
             "#fb9f3a"
            ],
            [
             0.8888888888888888,
             "#fdca26"
            ],
            [
             1,
             "#f0f921"
            ]
           ]
          },
          "colorway": [
           "#636efa",
           "#EF553B",
           "#00cc96",
           "#ab63fa",
           "#FFA15A",
           "#19d3f3",
           "#FF6692",
           "#B6E880",
           "#FF97FF",
           "#FECB52"
          ],
          "font": {
           "color": "#2a3f5f"
          },
          "geo": {
           "bgcolor": "white",
           "lakecolor": "white",
           "landcolor": "#E5ECF6",
           "showlakes": true,
           "showland": true,
           "subunitcolor": "white"
          },
          "hoverlabel": {
           "align": "left"
          },
          "hovermode": "closest",
          "mapbox": {
           "style": "light"
          },
          "paper_bgcolor": "white",
          "plot_bgcolor": "#E5ECF6",
          "polar": {
           "angularaxis": {
            "gridcolor": "white",
            "linecolor": "white",
            "ticks": ""
           },
           "bgcolor": "#E5ECF6",
           "radialaxis": {
            "gridcolor": "white",
            "linecolor": "white",
            "ticks": ""
           }
          },
          "scene": {
           "xaxis": {
            "backgroundcolor": "#E5ECF6",
            "gridcolor": "white",
            "gridwidth": 2,
            "linecolor": "white",
            "showbackground": true,
            "ticks": "",
            "zerolinecolor": "white"
           },
           "yaxis": {
            "backgroundcolor": "#E5ECF6",
            "gridcolor": "white",
            "gridwidth": 2,
            "linecolor": "white",
            "showbackground": true,
            "ticks": "",
            "zerolinecolor": "white"
           },
           "zaxis": {
            "backgroundcolor": "#E5ECF6",
            "gridcolor": "white",
            "gridwidth": 2,
            "linecolor": "white",
            "showbackground": true,
            "ticks": "",
            "zerolinecolor": "white"
           }
          },
          "shapedefaults": {
           "line": {
            "color": "#2a3f5f"
           }
          },
          "ternary": {
           "aaxis": {
            "gridcolor": "white",
            "linecolor": "white",
            "ticks": ""
           },
           "baxis": {
            "gridcolor": "white",
            "linecolor": "white",
            "ticks": ""
           },
           "bgcolor": "#E5ECF6",
           "caxis": {
            "gridcolor": "white",
            "linecolor": "white",
            "ticks": ""
           }
          },
          "title": {
           "x": 0.05
          },
          "xaxis": {
           "automargin": true,
           "gridcolor": "white",
           "linecolor": "white",
           "ticks": "",
           "title": {
            "standoff": 15
           },
           "zerolinecolor": "white",
           "zerolinewidth": 2
          },
          "yaxis": {
           "automargin": true,
           "gridcolor": "white",
           "linecolor": "white",
           "ticks": "",
           "title": {
            "standoff": 15
           },
           "zerolinecolor": "white",
           "zerolinewidth": 2
          }
         }
        },
        "title": {
         "text": "2017 to 2021 US STEM Related Positions Average Annual Compensation by State"
        }
       }
      },
      "text/html": [
       "<div>                            <div id=\"13435ea1-fa2d-464d-9596-8111bb4ff0a4\" class=\"plotly-graph-div\" style=\"height:525px; width:100%;\"></div>            <script type=\"text/javascript\">                require([\"plotly\"], function(Plotly) {                    window.PLOTLYENV=window.PLOTLYENV || {};                                    if (document.getElementById(\"13435ea1-fa2d-464d-9596-8111bb4ff0a4\")) {                    Plotly.newPlot(                        \"13435ea1-fa2d-464d-9596-8111bb4ff0a4\",                        [{\"colorbar\":{\"title\":{\"text\":\"Thousands USD\"}},\"colorscale\":[[0.0,\"rgb(247,251,255)\"],[0.125,\"rgb(222,235,247)\"],[0.25,\"rgb(198,219,239)\"],[0.375,\"rgb(158,202,225)\"],[0.5,\"rgb(107,174,214)\"],[0.625,\"rgb(66,146,198)\"],[0.75,\"rgb(33,113,181)\"],[0.875,\"rgb(8,81,156)\"],[1.0,\"rgb(8,48,107)\"]],\"locationmode\":\"USA-states\",\"locations\":[\"SC\",\"AZ\",\"LA\",\"MN\",\"NJ\",\"DC\",\"OR\",\"VA\",\"RI\",\"KY\",\"WY\",\"NH\",\"MI\",\"NV\",\"WI\",\"ID\",\"CA\",\"NE\",\"CT\",\"MT\",\"NC\",\"VT\",\"MD\",\"DE\",\"MO\",\"IL\",\"ME\",\"WA\",\"ND\",\"MS\",\"AL\",\"IN\",\"OH\",\"TN\",\"NM\",\"IA\",\"PA\",\"NY\",\"TX\",\"WV\",\"GA\",\"MA\",\"KS\",\"CO\",\"FL\",\"AR\",\"OK\",\"UT\",\"HI\"],\"z\":[94169.0,149707.0,97040.0,146403.0,169752.0,171189.0,185047.0,166277.0,114792.0,132480.0,156000.0,134931.0,133399.0,134167.0,134689.0,150244.0,271511.0,120077.0,117089.0,155429.0,158635.0,118000.0,127229.0,121949.0,114453.0,164735.0,110750.0,245072.0,126400.0,113333.0,127960.0,138910.0,132391.0,85814.0,140200.0,127065.0,165938.0,227358.0,164141.0,110636.0,155848.0,192501.0,118973.0,192476.0,145755.0,151531.0,110333.0,155558.0,194000.0],\"type\":\"choropleth\"}],                        {\"template\":{\"data\":{\"bar\":[{\"error_x\":{\"color\":\"#2a3f5f\"},\"error_y\":{\"color\":\"#2a3f5f\"},\"marker\":{\"line\":{\"color\":\"#E5ECF6\",\"width\":0.5},\"pattern\":{\"fillmode\":\"overlay\",\"size\":10,\"solidity\":0.2}},\"type\":\"bar\"}],\"barpolar\":[{\"marker\":{\"line\":{\"color\":\"#E5ECF6\",\"width\":0.5},\"pattern\":{\"fillmode\":\"overlay\",\"size\":10,\"solidity\":0.2}},\"type\":\"barpolar\"}],\"carpet\":[{\"aaxis\":{\"endlinecolor\":\"#2a3f5f\",\"gridcolor\":\"white\",\"linecolor\":\"white\",\"minorgridcolor\":\"white\",\"startlinecolor\":\"#2a3f5f\"},\"baxis\":{\"endlinecolor\":\"#2a3f5f\",\"gridcolor\":\"white\",\"linecolor\":\"white\",\"minorgridcolor\":\"white\",\"startlinecolor\":\"#2a3f5f\"},\"type\":\"carpet\"}],\"choropleth\":[{\"colorbar\":{\"outlinewidth\":0,\"ticks\":\"\"},\"type\":\"choropleth\"}],\"contour\":[{\"colorbar\":{\"outlinewidth\":0,\"ticks\":\"\"},\"colorscale\":[[0.0,\"#0d0887\"],[0.1111111111111111,\"#46039f\"],[0.2222222222222222,\"#7201a8\"],[0.3333333333333333,\"#9c179e\"],[0.4444444444444444,\"#bd3786\"],[0.5555555555555556,\"#d8576b\"],[0.6666666666666666,\"#ed7953\"],[0.7777777777777778,\"#fb9f3a\"],[0.8888888888888888,\"#fdca26\"],[1.0,\"#f0f921\"]],\"type\":\"contour\"}],\"contourcarpet\":[{\"colorbar\":{\"outlinewidth\":0,\"ticks\":\"\"},\"type\":\"contourcarpet\"}],\"heatmap\":[{\"colorbar\":{\"outlinewidth\":0,\"ticks\":\"\"},\"colorscale\":[[0.0,\"#0d0887\"],[0.1111111111111111,\"#46039f\"],[0.2222222222222222,\"#7201a8\"],[0.3333333333333333,\"#9c179e\"],[0.4444444444444444,\"#bd3786\"],[0.5555555555555556,\"#d8576b\"],[0.6666666666666666,\"#ed7953\"],[0.7777777777777778,\"#fb9f3a\"],[0.8888888888888888,\"#fdca26\"],[1.0,\"#f0f921\"]],\"type\":\"heatmap\"}],\"heatmapgl\":[{\"colorbar\":{\"outlinewidth\":0,\"ticks\":\"\"},\"colorscale\":[[0.0,\"#0d0887\"],[0.1111111111111111,\"#46039f\"],[0.2222222222222222,\"#7201a8\"],[0.3333333333333333,\"#9c179e\"],[0.4444444444444444,\"#bd3786\"],[0.5555555555555556,\"#d8576b\"],[0.6666666666666666,\"#ed7953\"],[0.7777777777777778,\"#fb9f3a\"],[0.8888888888888888,\"#fdca26\"],[1.0,\"#f0f921\"]],\"type\":\"heatmapgl\"}],\"histogram\":[{\"marker\":{\"pattern\":{\"fillmode\":\"overlay\",\"size\":10,\"solidity\":0.2}},\"type\":\"histogram\"}],\"histogram2d\":[{\"colorbar\":{\"outlinewidth\":0,\"ticks\":\"\"},\"colorscale\":[[0.0,\"#0d0887\"],[0.1111111111111111,\"#46039f\"],[0.2222222222222222,\"#7201a8\"],[0.3333333333333333,\"#9c179e\"],[0.4444444444444444,\"#bd3786\"],[0.5555555555555556,\"#d8576b\"],[0.6666666666666666,\"#ed7953\"],[0.7777777777777778,\"#fb9f3a\"],[0.8888888888888888,\"#fdca26\"],[1.0,\"#f0f921\"]],\"type\":\"histogram2d\"}],\"histogram2dcontour\":[{\"colorbar\":{\"outlinewidth\":0,\"ticks\":\"\"},\"colorscale\":[[0.0,\"#0d0887\"],[0.1111111111111111,\"#46039f\"],[0.2222222222222222,\"#7201a8\"],[0.3333333333333333,\"#9c179e\"],[0.4444444444444444,\"#bd3786\"],[0.5555555555555556,\"#d8576b\"],[0.6666666666666666,\"#ed7953\"],[0.7777777777777778,\"#fb9f3a\"],[0.8888888888888888,\"#fdca26\"],[1.0,\"#f0f921\"]],\"type\":\"histogram2dcontour\"}],\"mesh3d\":[{\"colorbar\":{\"outlinewidth\":0,\"ticks\":\"\"},\"type\":\"mesh3d\"}],\"parcoords\":[{\"line\":{\"colorbar\":{\"outlinewidth\":0,\"ticks\":\"\"}},\"type\":\"parcoords\"}],\"pie\":[{\"automargin\":true,\"type\":\"pie\"}],\"scatter\":[{\"marker\":{\"colorbar\":{\"outlinewidth\":0,\"ticks\":\"\"}},\"type\":\"scatter\"}],\"scatter3d\":[{\"line\":{\"colorbar\":{\"outlinewidth\":0,\"ticks\":\"\"}},\"marker\":{\"colorbar\":{\"outlinewidth\":0,\"ticks\":\"\"}},\"type\":\"scatter3d\"}],\"scattercarpet\":[{\"marker\":{\"colorbar\":{\"outlinewidth\":0,\"ticks\":\"\"}},\"type\":\"scattercarpet\"}],\"scattergeo\":[{\"marker\":{\"colorbar\":{\"outlinewidth\":0,\"ticks\":\"\"}},\"type\":\"scattergeo\"}],\"scattergl\":[{\"marker\":{\"colorbar\":{\"outlinewidth\":0,\"ticks\":\"\"}},\"type\":\"scattergl\"}],\"scattermapbox\":[{\"marker\":{\"colorbar\":{\"outlinewidth\":0,\"ticks\":\"\"}},\"type\":\"scattermapbox\"}],\"scatterpolar\":[{\"marker\":{\"colorbar\":{\"outlinewidth\":0,\"ticks\":\"\"}},\"type\":\"scatterpolar\"}],\"scatterpolargl\":[{\"marker\":{\"colorbar\":{\"outlinewidth\":0,\"ticks\":\"\"}},\"type\":\"scatterpolargl\"}],\"scatterternary\":[{\"marker\":{\"colorbar\":{\"outlinewidth\":0,\"ticks\":\"\"}},\"type\":\"scatterternary\"}],\"surface\":[{\"colorbar\":{\"outlinewidth\":0,\"ticks\":\"\"},\"colorscale\":[[0.0,\"#0d0887\"],[0.1111111111111111,\"#46039f\"],[0.2222222222222222,\"#7201a8\"],[0.3333333333333333,\"#9c179e\"],[0.4444444444444444,\"#bd3786\"],[0.5555555555555556,\"#d8576b\"],[0.6666666666666666,\"#ed7953\"],[0.7777777777777778,\"#fb9f3a\"],[0.8888888888888888,\"#fdca26\"],[1.0,\"#f0f921\"]],\"type\":\"surface\"}],\"table\":[{\"cells\":{\"fill\":{\"color\":\"#EBF0F8\"},\"line\":{\"color\":\"white\"}},\"header\":{\"fill\":{\"color\":\"#C8D4E3\"},\"line\":{\"color\":\"white\"}},\"type\":\"table\"}]},\"layout\":{\"annotationdefaults\":{\"arrowcolor\":\"#2a3f5f\",\"arrowhead\":0,\"arrowwidth\":1},\"autotypenumbers\":\"strict\",\"coloraxis\":{\"colorbar\":{\"outlinewidth\":0,\"ticks\":\"\"}},\"colorscale\":{\"diverging\":[[0,\"#8e0152\"],[0.1,\"#c51b7d\"],[0.2,\"#de77ae\"],[0.3,\"#f1b6da\"],[0.4,\"#fde0ef\"],[0.5,\"#f7f7f7\"],[0.6,\"#e6f5d0\"],[0.7,\"#b8e186\"],[0.8,\"#7fbc41\"],[0.9,\"#4d9221\"],[1,\"#276419\"]],\"sequential\":[[0.0,\"#0d0887\"],[0.1111111111111111,\"#46039f\"],[0.2222222222222222,\"#7201a8\"],[0.3333333333333333,\"#9c179e\"],[0.4444444444444444,\"#bd3786\"],[0.5555555555555556,\"#d8576b\"],[0.6666666666666666,\"#ed7953\"],[0.7777777777777778,\"#fb9f3a\"],[0.8888888888888888,\"#fdca26\"],[1.0,\"#f0f921\"]],\"sequentialminus\":[[0.0,\"#0d0887\"],[0.1111111111111111,\"#46039f\"],[0.2222222222222222,\"#7201a8\"],[0.3333333333333333,\"#9c179e\"],[0.4444444444444444,\"#bd3786\"],[0.5555555555555556,\"#d8576b\"],[0.6666666666666666,\"#ed7953\"],[0.7777777777777778,\"#fb9f3a\"],[0.8888888888888888,\"#fdca26\"],[1.0,\"#f0f921\"]]},\"colorway\":[\"#636efa\",\"#EF553B\",\"#00cc96\",\"#ab63fa\",\"#FFA15A\",\"#19d3f3\",\"#FF6692\",\"#B6E880\",\"#FF97FF\",\"#FECB52\"],\"font\":{\"color\":\"#2a3f5f\"},\"geo\":{\"bgcolor\":\"white\",\"lakecolor\":\"white\",\"landcolor\":\"#E5ECF6\",\"showlakes\":true,\"showland\":true,\"subunitcolor\":\"white\"},\"hoverlabel\":{\"align\":\"left\"},\"hovermode\":\"closest\",\"mapbox\":{\"style\":\"light\"},\"paper_bgcolor\":\"white\",\"plot_bgcolor\":\"#E5ECF6\",\"polar\":{\"angularaxis\":{\"gridcolor\":\"white\",\"linecolor\":\"white\",\"ticks\":\"\"},\"bgcolor\":\"#E5ECF6\",\"radialaxis\":{\"gridcolor\":\"white\",\"linecolor\":\"white\",\"ticks\":\"\"}},\"scene\":{\"xaxis\":{\"backgroundcolor\":\"#E5ECF6\",\"gridcolor\":\"white\",\"gridwidth\":2,\"linecolor\":\"white\",\"showbackground\":true,\"ticks\":\"\",\"zerolinecolor\":\"white\"},\"yaxis\":{\"backgroundcolor\":\"#E5ECF6\",\"gridcolor\":\"white\",\"gridwidth\":2,\"linecolor\":\"white\",\"showbackground\":true,\"ticks\":\"\",\"zerolinecolor\":\"white\"},\"zaxis\":{\"backgroundcolor\":\"#E5ECF6\",\"gridcolor\":\"white\",\"gridwidth\":2,\"linecolor\":\"white\",\"showbackground\":true,\"ticks\":\"\",\"zerolinecolor\":\"white\"}},\"shapedefaults\":{\"line\":{\"color\":\"#2a3f5f\"}},\"ternary\":{\"aaxis\":{\"gridcolor\":\"white\",\"linecolor\":\"white\",\"ticks\":\"\"},\"baxis\":{\"gridcolor\":\"white\",\"linecolor\":\"white\",\"ticks\":\"\"},\"bgcolor\":\"#E5ECF6\",\"caxis\":{\"gridcolor\":\"white\",\"linecolor\":\"white\",\"ticks\":\"\"}},\"title\":{\"x\":0.05},\"xaxis\":{\"automargin\":true,\"gridcolor\":\"white\",\"linecolor\":\"white\",\"ticks\":\"\",\"title\":{\"standoff\":15},\"zerolinecolor\":\"white\",\"zerolinewidth\":2},\"yaxis\":{\"automargin\":true,\"gridcolor\":\"white\",\"linecolor\":\"white\",\"ticks\":\"\",\"title\":{\"standoff\":15},\"zerolinecolor\":\"white\",\"zerolinewidth\":2}}},\"title\":{\"text\":\"2017 to 2021 US STEM Related Positions Average Annual Compensation by State\"},\"geo\":{\"scope\":\"usa\"}},                        {\"responsive\": true}                    ).then(function(){\n",
       "                            \n",
       "var gd = document.getElementById('13435ea1-fa2d-464d-9596-8111bb4ff0a4');\n",
       "var x = new MutationObserver(function (mutations, observer) {{\n",
       "        var display = window.getComputedStyle(gd).display;\n",
       "        if (!display || display === 'none') {{\n",
       "            console.log([gd, 'removed!']);\n",
       "            Plotly.purge(gd);\n",
       "            observer.disconnect();\n",
       "        }}\n",
       "}});\n",
       "\n",
       "// Listen for the removal of the full notebook cells\n",
       "var notebookContainer = gd.closest('#notebook-container');\n",
       "if (notebookContainer) {{\n",
       "    x.observe(notebookContainer, {childList: true});\n",
       "}}\n",
       "\n",
       "// Listen for the clearing of the current output cell\n",
       "var outputEl = gd.closest('.output');\n",
       "if (outputEl) {{\n",
       "    x.observe(outputEl, {childList: true});\n",
       "}}\n",
       "\n",
       "                        })                };                });            </script>        </div>"
      ]
     },
     "metadata": {},
     "output_type": "display_data"
    }
   ],
   "source": [
    "#Let df equal the spatial coordinates of states\n",
    "df = pandasdf\n",
    "\n",
    "fig = go.Figure(data=go.Choropleth(\n",
    "    locations=df['state'], # Spatial coordinates\n",
    "    z = df['total comp'].astype(float), # Data to be color-coded\n",
    "    locationmode = 'USA-states', # set of locations match entries in `locations`\n",
    "    colorscale = 'blues',\n",
    "    colorbar_title = \"Thousands USD\",\n",
    "))\n",
    "\n",
    "fig.update_layout(\n",
    "    title_text = '2017 to 2021 US STEM Related Positions Average Annual Compensation by State',\n",
    "    geo_scope='usa', # limite map scope to USA\n",
    ")\n",
    "fig.write_image(\"../Graph Outputs/us-states.png\")\n",
    "fig"
   ]
  },
  {
   "cell_type": "code",
   "execution_count": 20,
   "metadata": {},
   "outputs": [
    {
     "data": {
      "image/png": "[encoded data removed]",
      "text/plain": [
       "<IPython.core.display.Image object>"
      ]
     },
     "execution_count": 20,
     "metadata": {
      "image/png": {
       "width": 900
      }
     },
     "output_type": "execute_result"
    }
   ],
   "source": [
    "from IPython.display import Image\n",
    "PATH = \"../Graph Outputs/us-states.png\"\n",
    "Image(filename=PATH, width=900)"
   ]
  },
  {
   "cell_type": "markdown",
   "metadata": {},
   "source": [
    "### Graph Analysis\n",
    "\n",
    "**NOTE** We cannot display the interactive Plotly graph, so instead we will display a static png.\n",
    "\n",
    "It's interesting to note that two states are missing from our data:\n",
    "1. South Dakota (SD)\n",
    "2. Alaska (AK)\n",
    "\n",
    "We already know that California, Washington, and New York achieve the highest overall average annual compensation. From the graph, it appears than Tennessee received the lowest annual compensation over the past 4 years.\n",
    "\n",
    "It's interesting to note that STEM related positions seem most prosperous in coastal areas. It is unlikely that there is a single clear-cut answer for this. STEM related positions appear more often in built-up regions. If we view the midlands of the United States, such as Nebraska, Kansas, and Oklahoma, we see a large disparity between expected salaries here versus the coastal regions. This is likely due to the fact that these states do not have as large built-up regions, and predominately home the majority of the American farming industry.\n",
    "\n",
    "---\n",
    "\n",
    "# Rest of the World\n",
    "Let's now do a similar analysis with respect to the non-American states, countries, and cities within our dataset. To get our data, we just want the opposite of items found in the `states` list variable. However, as the locations are more complex, we'll need to further investigate."
   ]
  },
  {
   "cell_type": "code",
   "execution_count": 22,
   "metadata": {},
   "outputs": [
    {
     "name": "stdout",
     "output_type": "stream",
     "text": [
      "+----------+--------+-------+-----+-----------------+-----------------------+--------------------+-----------------+--------------+---+----------+---------------+-----+------+------+-----+----+---------+--------------------+--------------+\n",
      "|      date|    time|company|level|            title|totalyearlycompensation|            location|yearsofexperience|yearsatcompany|tag|basesalary|stockgrantvalue|bonus|gender|cityid|dmaid|race|education|           loc_array|       country|\n",
      "+----------+--------+-------+-----+-----------------+-----------------------+--------------------+-----------------+--------------+---+----------+---------------+-----+------+------+-----+----+---------+--------------------+--------------+\n",
      "|2017-07-24|12:21:07|  APPLE|   L4|Software Engineer|                  50000|London, EN, Unite...|              2.0|           2.0| NA|    141907|              0|    0|    NA| 12008|    0|  NA|       NA|[London, EN, Unit...|United Kingdom|\n",
      "|2017-08-13|10:57:56| AMAZON|   L5|Software Engineer|                 170000| Dublin, DN, Ireland|              9.0|           2.0| NA|     93000|          77000| 1000|    NA|  4015|    0|  NA|       NA|[Dublin, DN, Irel...|       Ireland|\n",
      "+----------+--------+-------+-----+-----------------+-----------------------+--------------------+-----------------+--------------+---+----------+---------------+-----+------+------+-----+----+---------+--------------------+--------------+\n",
      "only showing top 2 rows\n",
      "\n"
     ]
    }
   ],
   "source": [
    "#Split our location data into an array\n",
    "split_location = split(data['location'], ', ')\n",
    "\n",
    "#Create a new column for our array\n",
    "data_with_location_array = data.withColumn('loc_array', split_location)\n",
    "\n",
    "#Filter by the array column where array has more than 2 entries \n",
    "european_data = data_with_location_array.where(size(col('loc_array')) > 2)\n",
    "\n",
    "european_data = european_data.withColumn('country',european_data['loc_array'][2])\n",
    "european_data.show(n=2)"
   ]
  },
  {
   "cell_type": "code",
   "execution_count": 25,
   "metadata": {},
   "outputs": [],
   "source": [
    "#Let's groupby country\n",
    "other_averages = european_data['country', 'location', 'totalyearlycompensation',\n",
    "                           'basesalary', 'stockgrantvalue', 'bonus']\\\n",
    "    .groupBy('country')\\\n",
    "    .avg().collect()\n",
    "\n",
    "#Create dataframe from rows\n",
    "other_averages_df = spark.createDataFrame(other_averages)"
   ]
  },
  {
   "cell_type": "code",
   "execution_count": 27,
   "metadata": {},
   "outputs": [
    {
     "name": "stdout",
     "output_type": "stream",
     "text": [
      "+-----------+----------------------------+---------------+--------------------+----------+\n",
      "|    country|avg(totalyearlycompensation)|avg(basesalary)|avg(stockgrantvalue)|avg(bonus)|\n",
      "+-----------+----------------------------+---------------+--------------------+----------+\n",
      "|     Russia|                     59773.0|        39139.0|             15460.0|    6732.0|\n",
      "|     Sweden|                     92929.0|        87113.0|             10250.0|    4000.0|\n",
      "|Philippines|                    179000.0|       128181.0|               800.0|    7400.0|\n",
      "|      Burma|                     15000.0|        10000.0|              4000.0|    1000.0|\n",
      "|  Singapore|                    145038.0|       103472.0|             25110.0|   16682.0|\n",
      "+-----------+----------------------------+---------------+--------------------+----------+\n",
      "only showing top 5 rows\n",
      "\n"
     ]
    }
   ],
   "source": [
    "#Now we want to round all our values to 1 decimal place\n",
    "for c in other_averages_df.columns[1:]:\n",
    "    other_averages_df = other_averages_df.withColumn(c, round(c, 0))\n",
    "\n",
    "other_averages_df.show(n=5)"
   ]
  },
  {
   "cell_type": "markdown",
   "metadata": {},
   "source": [
    "## Visualisation\n",
    "So from here, in order to understand our data, we will use various visualisations. Creating a chloropleth map for American states is a much easier process than for various European and Asian countries. Let's firstly begin with some simpler visualisation.\n",
    "\n",
    "As before, we must convert our dataframe to a pandas dataframe object to use matplotlib"
   ]
  },
  {
   "cell_type": "code",
   "execution_count": 31,
   "metadata": {},
   "outputs": [],
   "source": [
    "#Convert to pandas\n",
    "pandasdf2 = other_averages_df.toPandas()\n",
    "pandasdf2.rename(columns={'avg(totalyearlycompensation)':'total comp', 'avg(basesalary)':'base sal',\n",
    "       'avg(stockgrantvalue)':'sg value', 'avg(bonus)':'bonus'}, inplace=True)"
   ]
  },
  {
   "cell_type": "code",
   "execution_count": 41,
   "metadata": {},
   "outputs": [
    {
     "data": {
      "image/png": "[encoded data removed]",
      "text/plain": [
       "<Figure size 504x504 with 1 Axes>"
      ]
     },
     "metadata": {
      "needs_background": "light"
     },
     "output_type": "display_data"
    }
   ],
   "source": [
    "#Let's make a scatterplot\n",
    "plt.figure(figsize=(7,7))\n",
    "\n",
    "x = pandasdf2['base sal']\n",
    "y = pandasdf2['bonus']\n",
    "\n",
    "plt.title('Base Salary by Bonus Per Country')\n",
    "plt.xlabel('Base Salary')\n",
    "plt.ylabel('Bonus')\n",
    "plt.scatter(x, y, alpha=0.5)\n",
    "plt.show()"
   ]
  },
  {
   "cell_type": "markdown",
   "metadata": {},
   "source": [
    "### Scatterplot Analysis\n",
    "From our graph it's clear that most countries receive between $[0, 30000]$ as a bonus. We do see one outlier receiving on average, over 70,000 per annum bonus. Let's see which country this is.\n",
    "\n",
    "In the below cell, we see that this country is Saudi Arabia. Saudi Arabia is a wealthy country, and is currently experience an economic boom. Therefore, it's not surprising that the salaries and bonuses in Saudi Arabia are high."
   ]
  },
  {
   "cell_type": "code",
   "execution_count": 43,
   "metadata": {},
   "outputs": [
    {
     "data": {
      "text/html": [
       "<div>\n",
       "<style scoped>\n",
       "    .dataframe tbody tr th:only-of-type {\n",
       "        vertical-align: middle;\n",
       "    }\n",
       "\n",
       "    .dataframe tbody tr th {\n",
       "        vertical-align: top;\n",
       "    }\n",
       "\n",
       "    .dataframe thead th {\n",
       "        text-align: right;\n",
       "    }\n",
       "</style>\n",
       "<table border=\"1\" class=\"dataframe\">\n",
       "  <thead>\n",
       "    <tr style=\"text-align: right;\">\n",
       "      <th></th>\n",
       "      <th>country</th>\n",
       "      <th>total comp</th>\n",
       "      <th>base sal</th>\n",
       "      <th>sg value</th>\n",
       "      <th>bonus</th>\n",
       "    </tr>\n",
       "  </thead>\n",
       "  <tbody>\n",
       "    <tr>\n",
       "      <th>47</th>\n",
       "      <td>Saudi Arabia</td>\n",
       "      <td>199750.0</td>\n",
       "      <td>126250.0</td>\n",
       "      <td>3250.0</td>\n",
       "      <td>70000.0</td>\n",
       "    </tr>\n",
       "  </tbody>\n",
       "</table>\n",
       "</div>"
      ],
      "text/plain": [
       "         country  total comp  base sal  sg value    bonus\n",
       "47  Saudi Arabia    199750.0  126250.0    3250.0  70000.0"
      ]
     },
     "execution_count": 43,
     "metadata": {},
     "output_type": "execute_result"
    }
   ],
   "source": [
    "pandasdf2.sort_values(by='bonus', ascending=False).head(1)"
   ]
  },
  {
   "cell_type": "code",
   "execution_count": 69,
   "metadata": {},
   "outputs": [
    {
     "data": {
      "image/png": "[encoded data removed]",
      "text/plain": [
       "<Figure size 432x1080 with 1 Axes>"
      ]
     },
     "metadata": {
      "needs_background": "light"
     },
     "output_type": "display_data"
    }
   ],
   "source": [
    "import seaborn as sns\n",
    "\n",
    "pandasdf2.sort_values(by='base sal', ascending=False, inplace=True)\n",
    "top_25 = pandasdf2.head(25)\n",
    "\n",
    "# Initialize the matplotlib figure\n",
    "f, ax = plt.subplots(figsize=(6, 15))\n",
    "\n",
    "# Load the example car crash dataset\n",
    "\n",
    "# Plot the total crashes\n",
    "sns.set_color_codes(\"pastel\")\n",
    "sns.barplot(x=\"base sal\", y=\"country\", data=top_25,\n",
    "            label=\"Base Salary\", color=\"b\")\n",
    "\n",
    "# Plot the crashes where alcohol was involved\n",
    "sns.set_color_codes(\"pastel\")\n",
    "sns.barplot(x=\"sg value\", y=\"country\", data=top_25,\n",
    "            label=\"Stockgrant Value\", color=\"orange\")\n",
    "\n",
    "# Plot the crashes where alcohol was involved\n",
    "sns.set_color_codes(\"muted\")\n",
    "sns.barplot(x=\"bonus\", y=\"country\", data=top_25,\n",
    "            label=\"Bonus\", color=\"b\")\n",
    "\n",
    "# Add a legend and informative axis label\n",
    "plt.title('Income Broken Down into Base Salary, Stockgrant Value, Bonus per Country')\n",
    "ax.legend(ncol=1, loc=\"lower right\", frameon=True)\n",
    "ax.set(ylabel=\"\",\n",
    "       xlabel=\"Income per Country (Dollars)\")\n",
    "sns.despine(left=True, bottom=True)"
   ]
  },
  {
   "cell_type": "markdown",
   "metadata": {},
   "source": [
    "### Horizontal Bar-Chart Analysis\n",
    "The top 20 countries with the highest base salary are presented above. The second entry of *Marshall Islands* is a bit unexpected, and one might question its legitimacy. In the below cell, we use our base dataframe to count the number of instances where 'Marhsall Islands' is the location. We see that there is only a single instance where this is the case.\n",
    "\n",
    "Following on from this find, we will redefine our dataset to include only countries with more than 5 entries. Let's see how this changes our visualisation."
   ]
  },
  {
   "cell_type": "code",
   "execution_count": 71,
   "metadata": {},
   "outputs": [
    {
     "data": {
      "text/plain": [
       "[Row(date=datetime.date(2019, 6, 17), time='22:29:16', company='EBAY', level='3', title='Software Engineer', totalyearlycompensation=195000, location='Kwajalein, MH, Marshall Islands', yearsofexperience=2.0, yearsatcompany=2.0, tag='Distributed Systems (Back-End)', basesalary=150000, stockgrantvalue=30000, bonus=15000, gender='Male', cityid='11982', dmaid='0', race='NA', education='NA', loc_array=['Kwajalein', 'MH', 'Marshall Islands'], country='Marshall Islands')]"
      ]
     },
     "execution_count": 71,
     "metadata": {},
     "output_type": "execute_result"
    }
   ],
   "source": [
    "#Check how many instances register Marshall Islands as locaiton\n",
    "european_data.filter(european_data.country == 'Marshall Islands').collect()"
   ]
  },
  {
   "cell_type": "code",
   "execution_count": 92,
   "metadata": {},
   "outputs": [],
   "source": [
    "#Count the number of appearances for each countr\n",
    "counts = european_data['country', 'location', 'totalyearlycompensation',\n",
    "                           'basesalary', 'stockgrantvalue', 'bonus']\\\n",
    "    .groupBy('country')\\\n",
    "    .count().collect()\n",
    "\n",
    "#Create a dataframe\n",
    "counts = spark.createDataFrame(counts)\n",
    "\n",
    "#Merge that with our previous grouped dataframe\n",
    "new_european_data = other_averages_df.join(counts, on='country')"
   ]
  },
  {
   "cell_type": "code",
   "execution_count": 94,
   "metadata": {},
   "outputs": [
    {
     "name": "stdout",
     "output_type": "stream",
     "text": [
      "+-------+----------------------------+---------------+--------------------+----------+-----+\n",
      "|country|avg(totalyearlycompensation)|avg(basesalary)|avg(stockgrantvalue)|avg(bonus)|count|\n",
      "+-------+----------------------------+---------------+--------------------+----------+-----+\n",
      "| Russia|                     59773.0|        39139.0|             15460.0|    6732.0|  249|\n",
      "| Sweden|                     92929.0|        87113.0|             10250.0|    4000.0|   56|\n",
      "+-------+----------------------------+---------------+--------------------+----------+-----+\n",
      "only showing top 2 rows\n",
      "\n"
     ]
    }
   ],
   "source": [
    "new_european_data.show(n=2)"
   ]
  },
  {
   "cell_type": "code",
   "execution_count": 95,
   "metadata": {},
   "outputs": [],
   "source": [
    "#For a final step let's filter out countries with less than 5 entries\n",
    "new_european_data = new_european_data.filter(new_european_data['count'] > 4).collect()\n",
    "new_european_data = spark.createDataFrame(new_european_data)"
   ]
  },
  {
   "cell_type": "code",
   "execution_count": 96,
   "metadata": {},
   "outputs": [],
   "source": [
    "#Convert to pandas and plot\n",
    "pandasdf3 = new_european_data.toPandas()\n",
    "pandasdf3.rename(columns={'avg(totalyearlycompensation)':'total comp', 'avg(basesalary)':'base sal',\n",
    "       'avg(stockgrantvalue)':'sg value', 'avg(bonus)':'bonus'}, inplace=True)"
   ]
  },
  {
   "cell_type": "code",
   "execution_count": 97,
   "metadata": {},
   "outputs": [
    {
     "data": {
      "image/png": "[encoded data removed]",
      "text/plain": [
       "<Figure size 432x1080 with 1 Axes>"
      ]
     },
     "metadata": {
      "needs_background": "light"
     },
     "output_type": "display_data"
    }
   ],
   "source": [
    "import seaborn as sns\n",
    "\n",
    "pandasdf3.sort_values(by='base sal', ascending=False, inplace=True)\n",
    "top_25 = pandasdf3.head(25)\n",
    "\n",
    "# Initialize the matplotlib figure\n",
    "f, ax = plt.subplots(figsize=(6, 15))\n",
    "\n",
    "# Load the example car crash dataset\n",
    "\n",
    "# Plot the total crashes\n",
    "sns.set_color_codes(\"pastel\")\n",
    "sns.barplot(x=\"base sal\", y=\"country\", data=top_25,\n",
    "            label=\"Base Salary\", color=\"b\")\n",
    "\n",
    "# Plot the crashes where alcohol was involved\n",
    "sns.set_color_codes(\"pastel\")\n",
    "sns.barplot(x=\"sg value\", y=\"country\", data=top_25,\n",
    "            label=\"Stockgrant Value\", color=\"orange\")\n",
    "\n",
    "# Plot the crashes where alcohol was involved\n",
    "sns.set_color_codes(\"muted\")\n",
    "sns.barplot(x=\"bonus\", y=\"country\", data=top_25,\n",
    "            label=\"Bonus\", color=\"b\")\n",
    "\n",
    "# Add a legend and informative axis label\n",
    "plt.title('Income Broken Down into Base Salary, Stockgrant Value, Bonus per Country')\n",
    "ax.legend(ncol=1, loc=\"lower right\", frameon=True)\n",
    "ax.set(ylabel=\"\",\n",
    "       xlabel=\"Income per Country (Dollars)\")\n",
    "sns.despine(left=True, bottom=True)"
   ]
  },
  {
   "cell_type": "markdown",
   "metadata": {},
   "source": [
    "### New Horizontal Bar Chart Analysis\n",
    "We see that limiting our list to countries with 5 or more entries has removed some of the unexpected countries such as Marshall Islands, Iraw, and Morocco. It also dropped Saudi Arabia from our list.\n",
    "\n",
    "We see from our graph that the average base salary of countries according to our data remains relatively stable with the exception of The UAE and Switzerland. It seems that the amount of bonus you receive is not directly proportional to your base salary, and varies greatly from country-to-country. Ireland sits comfortably in the 13th position just ahead of Japan and Behind the Netherlands. We do notice that Irish employees receive less of a bonus than both the Dutch and the Japanese.\n",
    "\n",
    "From our list, we see the highest ranked European country is Denmark which comes as a surprise to me (*discounting Switzerland as it's not in the European Union*). After Denmark, the next European countries are Netherlands and Ireland in 12th and 13th respectfully. This shows the global scale of STEM technologies and the growing interest of the world.\n",
    "\n",
    "---\n",
    "\n",
    "## United States VS Rest of World\n",
    "Let's do one final comparison of the United States versus the rest of the world with respect to STEM related positions. We will make an overlapping barchart comparing the top 6 US states to the top 5 countries from the rest of the world also including Ireland."
   ]
  },
  {
   "cell_type": "code",
   "execution_count": 137,
   "metadata": {},
   "outputs": [],
   "source": [
    "#get rest of world top 5 countries\n",
    "row_top_5 = pandasdf3.head(5)\n",
    "\n",
    "#Include ireland\n",
    "row_top_5 = row_top_5.append(pandasdf3.loc[20])\n",
    "\n",
    "#Get US top 5\n",
    "us_top_6 = pandasdf.sort_values('base sal', ascending=False).head(6)\n",
    "\n",
    "#Including newe column to split between ROW and US\n",
    "row_top_5['region'] = 'ROW'\n",
    "us_top_6['region'] = 'US'\n",
    "\n",
    "#Order by total-comp\n",
    "row_top_5.sort_values(by='total comp', ascending=False, inplace=True)\n",
    "us_top_6.sort_values(by='total comp', ascending=False, inplace=True)\n",
    "    \n",
    "#Let's also include a relative 'position' column\n",
    "row_top_5['position'] = ['1st', '2nd', '3rd', '4th', '5th', '6th']\n",
    "us_top_6['position'] = ['1st', '2nd', '3rd', '4th', '5th', '6th']\n",
    "\n",
    "#rename country and state to 'area' for simplicity\n",
    "us_top_6.rename(columns={'state':'area', 'sg val': 'sg value'}, inplace=True)\n",
    "row_top_5.rename(columns={'country':'area'}, inplace=True)\n",
    "\n",
    "row_top_5.drop(columns=['count'], inplace=True)\n",
    "\n",
    "concated = pd.concat([row_top_5, us_top_6], axis=0)"
   ]
  },
  {
   "cell_type": "code",
   "execution_count": 138,
   "metadata": {},
   "outputs": [
    {
     "data": {
      "text/html": [
       "<div>\n",
       "<style scoped>\n",
       "    .dataframe tbody tr th:only-of-type {\n",
       "        vertical-align: middle;\n",
       "    }\n",
       "\n",
       "    .dataframe tbody tr th {\n",
       "        vertical-align: top;\n",
       "    }\n",
       "\n",
       "    .dataframe thead th {\n",
       "        text-align: right;\n",
       "    }\n",
       "</style>\n",
       "<table border=\"1\" class=\"dataframe\">\n",
       "  <thead>\n",
       "    <tr style=\"text-align: right;\">\n",
       "      <th></th>\n",
       "      <th>area</th>\n",
       "      <th>total comp</th>\n",
       "      <th>base sal</th>\n",
       "      <th>sg value</th>\n",
       "      <th>bonus</th>\n",
       "      <th>region</th>\n",
       "      <th>position</th>\n",
       "    </tr>\n",
       "  </thead>\n",
       "  <tbody>\n",
       "    <tr>\n",
       "      <th>28</th>\n",
       "      <td>Switzerland</td>\n",
       "      <td>251144.0</td>\n",
       "      <td>164245.0</td>\n",
       "      <td>52803.0</td>\n",
       "      <td>25548.0</td>\n",
       "      <td>ROW</td>\n",
       "      <td>1st</td>\n",
       "    </tr>\n",
       "    <tr>\n",
       "      <th>29</th>\n",
       "      <td>United Arab Emirates</td>\n",
       "      <td>189067.0</td>\n",
       "      <td>149660.0</td>\n",
       "      <td>28867.0</td>\n",
       "      <td>12967.0</td>\n",
       "      <td>ROW</td>\n",
       "      <td>2nd</td>\n",
       "    </tr>\n",
       "    <tr>\n",
       "      <th>19</th>\n",
       "      <td>Denmark</td>\n",
       "      <td>184364.0</td>\n",
       "      <td>127182.0</td>\n",
       "      <td>40364.0</td>\n",
       "      <td>16727.0</td>\n",
       "      <td>ROW</td>\n",
       "      <td>3rd</td>\n",
       "    </tr>\n",
       "    <tr>\n",
       "      <th>2</th>\n",
       "      <td>Philippines</td>\n",
       "      <td>179000.0</td>\n",
       "      <td>128181.0</td>\n",
       "      <td>800.0</td>\n",
       "      <td>7400.0</td>\n",
       "      <td>ROW</td>\n",
       "      <td>4th</td>\n",
       "    </tr>\n",
       "    <tr>\n",
       "      <th>23</th>\n",
       "      <td>Israel</td>\n",
       "      <td>177349.0</td>\n",
       "      <td>127182.0</td>\n",
       "      <td>31112.0</td>\n",
       "      <td>17580.0</td>\n",
       "      <td>ROW</td>\n",
       "      <td>5th</td>\n",
       "    </tr>\n",
       "    <tr>\n",
       "      <th>20</th>\n",
       "      <td>Ireland</td>\n",
       "      <td>138682.0</td>\n",
       "      <td>96740.0</td>\n",
       "      <td>32744.0</td>\n",
       "      <td>10918.0</td>\n",
       "      <td>ROW</td>\n",
       "      <td>6th</td>\n",
       "    </tr>\n",
       "    <tr>\n",
       "      <th>16</th>\n",
       "      <td>CA</td>\n",
       "      <td>271511.0</td>\n",
       "      <td>167635.0</td>\n",
       "      <td>74829.0</td>\n",
       "      <td>22468.0</td>\n",
       "      <td>US</td>\n",
       "      <td>1st</td>\n",
       "    </tr>\n",
       "    <tr>\n",
       "      <th>27</th>\n",
       "      <td>WA</td>\n",
       "      <td>245072.0</td>\n",
       "      <td>150771.0</td>\n",
       "      <td>67855.0</td>\n",
       "      <td>21468.0</td>\n",
       "      <td>US</td>\n",
       "      <td>2nd</td>\n",
       "    </tr>\n",
       "    <tr>\n",
       "      <th>37</th>\n",
       "      <td>NY</td>\n",
       "      <td>227358.0</td>\n",
       "      <td>157660.0</td>\n",
       "      <td>39939.0</td>\n",
       "      <td>26859.0</td>\n",
       "      <td>US</td>\n",
       "      <td>3rd</td>\n",
       "    </tr>\n",
       "    <tr>\n",
       "      <th>48</th>\n",
       "      <td>HI</td>\n",
       "      <td>194000.0</td>\n",
       "      <td>142000.0</td>\n",
       "      <td>25000.0</td>\n",
       "      <td>27500.0</td>\n",
       "      <td>US</td>\n",
       "      <td>4th</td>\n",
       "    </tr>\n",
       "    <tr>\n",
       "      <th>41</th>\n",
       "      <td>MA</td>\n",
       "      <td>192501.0</td>\n",
       "      <td>137101.0</td>\n",
       "      <td>37472.0</td>\n",
       "      <td>16695.0</td>\n",
       "      <td>US</td>\n",
       "      <td>5th</td>\n",
       "    </tr>\n",
       "    <tr>\n",
       "      <th>6</th>\n",
       "      <td>OR</td>\n",
       "      <td>185047.0</td>\n",
       "      <td>138326.0</td>\n",
       "      <td>25490.0</td>\n",
       "      <td>20446.0</td>\n",
       "      <td>US</td>\n",
       "      <td>6th</td>\n",
       "    </tr>\n",
       "  </tbody>\n",
       "</table>\n",
       "</div>"
      ],
      "text/plain": [
       "                    area  total comp  base sal  sg value    bonus region  \\\n",
       "28           Switzerland    251144.0  164245.0   52803.0  25548.0    ROW   \n",
       "29  United Arab Emirates    189067.0  149660.0   28867.0  12967.0    ROW   \n",
       "19               Denmark    184364.0  127182.0   40364.0  16727.0    ROW   \n",
       "2            Philippines    179000.0  128181.0     800.0   7400.0    ROW   \n",
       "23                Israel    177349.0  127182.0   31112.0  17580.0    ROW   \n",
       "20               Ireland    138682.0   96740.0   32744.0  10918.0    ROW   \n",
       "16                    CA    271511.0  167635.0   74829.0  22468.0     US   \n",
       "27                    WA    245072.0  150771.0   67855.0  21468.0     US   \n",
       "37                    NY    227358.0  157660.0   39939.0  26859.0     US   \n",
       "48                    HI    194000.0  142000.0   25000.0  27500.0     US   \n",
       "41                    MA    192501.0  137101.0   37472.0  16695.0     US   \n",
       "6                     OR    185047.0  138326.0   25490.0  20446.0     US   \n",
       "\n",
       "   position  \n",
       "28      1st  \n",
       "29      2nd  \n",
       "19      3rd  \n",
       "2       4th  \n",
       "23      5th  \n",
       "20      6th  \n",
       "16      1st  \n",
       "27      2nd  \n",
       "37      3rd  \n",
       "48      4th  \n",
       "41      5th  \n",
       "6       6th  "
      ]
     },
     "execution_count": 138,
     "metadata": {},
     "output_type": "execute_result"
    }
   ],
   "source": [
    "concated"
   ]
  },
  {
   "cell_type": "code",
   "execution_count": 145,
   "metadata": {},
   "outputs": [
    {
     "data": {
      "image/png": "[encoded data removed]",
      "text/plain": [
       "<Figure size 492.5x432 with 1 Axes>"
      ]
     },
     "metadata": {
      "needs_background": "light"
     },
     "output_type": "display_data"
    }
   ],
   "source": [
    "# Draw a nested barplot by species and sex\n",
    "g = sns.catplot(\n",
    "    data=concated, kind=\"bar\",\n",
    "    x=\"total comp\", y=\"position\", hue=\"region\",\n",
    "    ci=\"sd\", palette=\"dark\", alpha=.6, height=6\n",
    ")\n",
    "g.despine(left=True)\n",
    "g.set_axis_labels(\"\", \"Relative Position in Region\")\n",
    "plt.xlabel('Income (Dollar)')\n",
    "plt.title('Comparison Between Top 6 States and Top 5 European Countries (Incl. Ireland)')\n",
    "g.legend.set_title(\"\")"
   ]
  },
  {
   "cell_type": "markdown",
   "metadata": {},
   "source": [
    "### U.S Vs R.O.W Analysis\n",
    "In the final graph, we are missing some information regarding the countries and states being directly compared. However, the important information that we can see is this:\n",
    "* According to our data, employees in STEM related positions receive more compensation annually in the United States than they do in the rest of the World.\n",
    "* The margins between earnings seem quite considerable.\n",
    "---\n",
    "\n",
    "## Conclusion\n",
    "In this notebook, we investigated the earnings from STEM related positions in both the United States, and the Rest of the World. We understood that the coastal regions of the US offer greater opportunity in terms of STEM positions, whilst the midlands offer opportunity in other sectors such as agriculture.\n",
    "\n",
    "With this dataset being predominantely American, our data for the rest of the world was biased towards countries with less entries. We filtered out any countries with less than 5 recorded instances. We found that of the countries with the highest earning STEM eployees, very few are in the European Union. This emphasises the globalisation of the STEM-related market.\n",
    "\n",
    "Finally, we wanted to compare the eanrings of the top states in America, with the earnings of the top countries in the rest of the world, including Ireland. We found that in all cases of our comparison, American states earn more than the averages of European countries. On this simple analysis alone, it would be worth while to consider a position in the United States if you would like to earn more in your position. However, this is not an exhaustive analysis, and ofcourse other factors are in play."
   ]
  }
 ],
 "metadata": {
  "kernelspec": {
   "display_name": "Python 3",
   "language": "python",
   "name": "python3"
  },
  "language_info": {
   "codemirror_mode": {
    "name": "ipython",
    "version": 3
   },
   "file_extension": ".py",
   "mimetype": "text/x-python",
   "name": "python",
   "nbconvert_exporter": "python",
   "pygments_lexer": "ipython3",
   "version": "3.8.10"
  }
 },
 "nbformat": 4,
 "nbformat_minor": 4
}
