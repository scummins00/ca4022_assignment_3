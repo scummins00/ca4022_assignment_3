{
 "cells": [
  {
   "cell_type": "code",
   "execution_count": 1,
   "id": "321929e0",
   "metadata": {},
   "outputs": [],
   "source": [
    "import findspark\n",
    "findspark.init()"
   ]
  },
  {
   "cell_type": "code",
   "execution_count": 2,
   "id": "41bd55c9",
   "metadata": {},
   "outputs": [],
   "source": [
    "import pyspark\n",
    "from pyspark.sql import SparkSession, Row\n",
    "from pyspark.sql.types import *\n",
    "import pyspark.sql.functions as F\n",
    "import pandas as pd\n",
    "import matplotlib.pyplot as plt\n",
    "from pyspark.sql.functions import to_timestamp\n",
    "\n",
    "# from pyspark.sql.functions import col, udf\n",
    "from pyspark.sql.functions import col, unix_timestamp, to_date\n"
   ]
  },
  {
   "cell_type": "code",
   "execution_count": 3,
   "id": "37276379",
   "metadata": {},
   "outputs": [
    {
     "name": "stderr",
     "output_type": "stream",
     "text": [
      "21/12/07 12:10:16 WARN Utils: Your hostname, LAPTOP-T2T1G8JL resolves to a loopback address: 127.0.1.1; using 172.22.10.85 instead (on interface eth0)\n",
      "21/12/07 12:10:16 WARN Utils: Set SPARK_LOCAL_IP if you need to bind to another address\n",
      "Using Spark's default log4j profile: org/apache/spark/log4j-defaults.properties\n",
      "Setting default log level to \"WARN\".\n",
      "To adjust logging level use sc.setLogLevel(newLevel). For SparkR, use setLogLevel(newLevel).\n",
      "21/12/07 12:10:18 WARN NativeCodeLoader: Unable to load native-hadoop library for your platform... using builtin-java classes where applicable\n",
      "21/12/07 12:10:19 WARN Utils: Service 'SparkUI' could not bind on port 4040. Attempting port 4041.\n"
     ]
    },
    {
     "data": {
      "text/html": [
       "\n",
       "            <div>\n",
       "                <p><b>SparkSession - in-memory</b></p>\n",
       "                \n",
       "        <div>\n",
       "            <p><b>SparkContext</b></p>\n",
       "\n",
       "            <p><a href=\"http://172.22.10.85:4041\">Spark UI</a></p>\n",
       "\n",
       "            <dl>\n",
       "              <dt>Version</dt>\n",
       "                <dd><code>v3.2.0</code></dd>\n",
       "              <dt>Master</dt>\n",
       "                <dd><code>local</code></dd>\n",
       "              <dt>AppName</dt>\n",
       "                <dd><code>pyspark-shell</code></dd>\n",
       "            </dl>\n",
       "        </div>\n",
       "        \n",
       "            </div>\n",
       "        "
      ],
      "text/plain": [
       "<pyspark.sql.session.SparkSession at 0x7f3e539c7d90>"
      ]
     },
     "execution_count": 3,
     "metadata": {},
     "output_type": "execute_result"
    }
   ],
   "source": [
    "spark = pyspark.sql.SparkSession.builder.master(\"local\").getOrCreate()\n",
    "spark"
   ]
  },
  {
   "cell_type": "code",
   "execution_count": 7,
   "id": "6eee66e3",
   "metadata": {},
   "outputs": [
    {
     "name": "stdout",
     "output_type": "stream",
     "text": [
      "+------------------+---------+-----+--------------------+-----------------------+-----------------+-----------------+--------------+---+----------+---------------+-----+------+------+-----+----+---------+\n",
      "|         timestamp|  company|level|               title|totalyearlycompensation|         location|yearsofexperience|yearsatcompany|tag|basesalary|stockgrantvalue|bonus|gender|cityid|dmaid|race|education|\n",
      "+------------------+---------+-----+--------------------+-----------------------+-----------------+-----------------+--------------+---+----------+---------------+-----+------+------+-----+----+---------+\n",
      "|  06/07/2017 11:33|   ORACLE|   L3|     Product Manager|                 127000| Redwood City, CA|              1.5|           1.5| NA|    107000|          20000|10000|    NA|  7392|  807|  NA|       NA|\n",
      "|  06/10/2017 17:11|     EBAY| SE 2|   Software Engineer|                 100000|San Francisco, CA|              5.0|           3.0| NA|    141907|              0|    0|    NA|  7419|  807|  NA|       NA|\n",
      "|  06/11/2017 14:53|   AMAZON|   L7|     Product Manager|                 310000|      Seattle, WA|              8.0|           0.0| NA|    155000|              0|    0|    NA| 11527|  819|  NA|       NA|\n",
      "| 6/17/2017 0:23:14|    APPLE|   M1|Software Engineer...|                 372000|    Sunnyvale, CA|              7.0|           5.0| NA|    157000|         180000|35000|    NA|  7472|  807|  NA|       NA|\n",
      "|6/20/2017 10:58:51|MICROSOFT|   60|   Software Engineer|                 157000|Mountain View, CA|              5.0|           3.0| NA|    141907|              0|    0|    NA|  7322|  807|  NA|       NA|\n",
      "+------------------+---------+-----+--------------------+-----------------------+-----------------+-----------------+--------------+---+----------+---------------+-----+------+------+-----+----+---------+\n",
      "only showing top 5 rows\n",
      "\n"
     ]
    }
   ],
   "source": [
    "# Let's define our schema\n",
    "schema = StructType([\\\n",
    "    StructField(\"timestamp\", StringType(), True),\\\n",
    "    StructField(\"company\", StringType(), True),\\\n",
    "    StructField(\"level\", StringType(), True),\\\n",
    "    StructField(\"title\", StringType(), True),\\\n",
    "    StructField(\"totalyearlycompensation\", IntegerType(), False),\\\n",
    "    StructField(\"location\", StringType(), True),\\\n",
    "    StructField(\"yearsofexperience\", FloatType(), False),\\\n",
    "    StructField(\"yearsatcompany\", FloatType(), False),\\\n",
    "    StructField(\"tag\", StringType(), True),\\\n",
    "    StructField(\"basesalary\", IntegerType(), False),\\\n",
    "    StructField(\"stockgrantvalue\", IntegerType(), False),\\\n",
    "    StructField(\"bonus\", IntegerType(), False),\\\n",
    "    StructField(\"gender\", StringType(), True),\\\n",
    "    StructField(\"cityid\", StringType(), True),\\\n",
    "    StructField(\"dmaid\", StringType(), True),\\\n",
    "    StructField(\"race\", StringType(), True),\\\n",
    "    StructField(\"education\", StringType(), True)])\n",
    "\n",
    "# Load and parse the data file, converting it to a DataFrame.\n",
    "data = spark.read.format(\"csv\")\\\n",
    "    .option(\"header\", \"false\")\\\n",
    "    .option(\"delimiter\", \"\\t\")\\\n",
    "    .schema(schema)\\\n",
    "    .load(\"data/cleaned.txt\")\n",
    "data.show(n=5)"
   ]
  },
  {
   "cell_type": "code",
   "execution_count": null,
   "id": "866e0f99",
   "metadata": {},
   "outputs": [],
   "source": [
    "data.columns"
   ]
  },
  {
   "cell_type": "markdown",
   "id": "12354ca1",
   "metadata": {},
   "source": [
    "## Correlation"
   ]
  },
  {
   "cell_type": "code",
   "execution_count": null,
   "id": "1cc47587",
   "metadata": {},
   "outputs": [],
   "source": [
    "# From stackoverflow\n",
    "data.stat.corr(\"totalyearlycompensation\",\"basesalary\")"
   ]
  },
  {
   "cell_type": "code",
   "execution_count": null,
   "id": "0e4c58fd",
   "metadata": {},
   "outputs": [],
   "source": [
    "# From stackoverflow\n",
    "data.stat.corr(\"totalyearlycompensation\",\"basesalary\", \"pearson\")"
   ]
  },
  {
   "cell_type": "code",
   "execution_count": null,
   "id": "dc7f1694",
   "metadata": {},
   "outputs": [],
   "source": [
    "# From stackoverflow\n",
    "data.stat.corr(\"totalyearlycompensation\",\"basesalary\", \"spearman\")"
   ]
  },
  {
   "cell_type": "markdown",
   "id": "c4394a14",
   "metadata": {},
   "source": [
    "## Dataframe Generic Guide"
   ]
  },
  {
   "cell_type": "code",
   "execution_count": null,
   "id": "770354fe",
   "metadata": {},
   "outputs": [],
   "source": [
    "data.describe(\"basesalary\")"
   ]
  },
  {
   "cell_type": "code",
   "execution_count": null,
   "id": "4c473e9f",
   "metadata": {},
   "outputs": [],
   "source": [
    "summary = data.describe(\"basesalary\")\n",
    "summary.show()"
   ]
  },
  {
   "cell_type": "markdown",
   "id": "34b17148",
   "metadata": {},
   "source": [
    "## Average Base Salary from 2017 to 2021"
   ]
  },
  {
   "cell_type": "code",
   "execution_count": null,
   "id": "c2f6e1f7",
   "metadata": {},
   "outputs": [],
   "source": [
    "## Converting it to numpy dataframe\n",
    "\n",
    "basesalary_dates2 = data.select('timestamp', 'basesalary').toPandas()\n",
    "basesalary_dates2[\"timestamp\"] = pd.to_datetime(basesalary_dates2[\"timestamp\"])\n",
    "basesalary_dates2['YearMonth'] = basesalary_dates2['timestamp'].apply(lambda x: '{year}-{month}'.format(year=x.year, month=x.month))\n",
    "basesalary_dates2 = basesalary_dates2.groupby('YearMonth', as_index=False).agg({'basesalary' : ['mean']})\n",
    "basesalary_dates2.columns = ['Date', 'Avg_Salary']\n",
    "basesalary_dates2['Date'] = pd.to_datetime(basesalary_dates2['Date'],format='%Y-%m')"
   ]
  },
  {
   "cell_type": "code",
   "execution_count": null,
   "id": "efed8771",
   "metadata": {},
   "outputs": [],
   "source": [
    "fig, ax = plt.subplots(figsize=(20, 7))\n",
    "basesalary_dates.plot(x=\"Date\", ax=ax, legend=None)\n",
    "plt.title(\"Average Base Salary\", fontsize=26)\n",
    "plt.xlabel(\"Year/Month\")\n",
    "plt.ylabel(\"Salary\", fontsize=20)"
   ]
  },
  {
   "cell_type": "code",
   "execution_count": null,
   "id": "17f0e186",
   "metadata": {},
   "outputs": [],
   "source": []
  },
  {
   "cell_type": "code",
   "execution_count": null,
   "id": "39eabe80",
   "metadata": {},
   "outputs": [],
   "source": [
    "## Leaving it as spark default table\n",
    "\n",
    "basesalary_dates = data.select('timestamp', 'basesalary')"
   ]
  },
  {
   "cell_type": "code",
   "execution_count": null,
   "id": "66b9467f",
   "metadata": {},
   "outputs": [],
   "source": [
    "basesalary_dates['timestamp'] = basesalary_dates.select(to_timestamp(basesalary_dates.timestamp, 'dd/MM/YYY HH:mm').alias('timestamp'))"
   ]
  },
  {
   "cell_type": "code",
   "execution_count": null,
   "id": "2db1b734",
   "metadata": {},
   "outputs": [],
   "source": [
    "func =  udf (lambda x: datetime.strptime(x, '%m/%d/%Y'), DateType())"
   ]
  },
  {
   "cell_type": "code",
   "execution_count": null,
   "id": "fbf3e888",
   "metadata": {},
   "outputs": [],
   "source": [
    "basesalary_dates1 = basesalary_dates.withColumn(to_timestamp(col('timestamp'), 'dd/MM/YYY HH:mm'), )"
   ]
  },
  {
   "cell_type": "code",
   "execution_count": null,
   "id": "9c0e81e1",
   "metadata": {},
   "outputs": [],
   "source": [
    "basesalary_dates1 = basesalary_dates.withColumn(\"record_date\",basesalary_dates['timestamp'].cast(TimestampType()))\n",
    "#below is the result"
   ]
  },
  {
   "cell_type": "code",
   "execution_count": null,
   "id": "c1e0c60e",
   "metadata": {},
   "outputs": [],
   "source": [
    "basesalary_dates1.show(3)"
   ]
  },
  {
   "cell_type": "code",
   "execution_count": null,
   "id": "6842f6b9",
   "metadata": {},
   "outputs": [],
   "source": [
    "## Followed this link https://stackoverflow.com/questions/47953320/change-column-type-from-string-to-date-in-pyspark/47953572\n",
    "\n",
    "basesalary_dates1 = basesalary_dates.withColumn('date_in_dateFormat', \n",
    "                   to_date(unix_timestamp(col('timestamp'), 'MM/dd/yyyy HH:mm:ss').cast(\"timestamp\"))).select('date_in_dateFormat', 'basesalary')"
   ]
  },
  {
   "cell_type": "code",
   "execution_count": null,
   "id": "91d6aebd",
   "metadata": {},
   "outputs": [],
   "source": [
    "basesalary_dates1.show(2)"
   ]
  },
  {
   "cell_type": "code",
   "execution_count": null,
   "id": "b160bd41",
   "metadata": {},
   "outputs": [],
   "source": [
    "## Cant get these working from this link https://sparkbyexamples.com/pyspark/pyspark-groupby-explained-with-example/\n",
    "\n",
    "basesalary_dates1.groupBy(\"date_in_dateFormat\").mean(\"basesalary\").show(10, truncate=False)"
   ]
  },
  {
   "cell_type": "code",
   "execution_count": null,
   "id": "1f8a7005",
   "metadata": {},
   "outputs": [],
   "source": [
    "basesalary_dates1.groupBy(\"date_in_dateFormat\").min(\"basesalary\").show()"
   ]
  },
  {
   "cell_type": "code",
   "execution_count": 14,
   "id": "84b49577",
   "metadata": {},
   "outputs": [
    {
     "ename": "TypeError",
     "evalue": "'Column' object is not callable",
     "output_type": "error",
     "traceback": [
      "\u001b[0;31m---------------------------------------------------------------------------\u001b[0m",
      "\u001b[0;31mTypeError\u001b[0m                                 Traceback (most recent call last)",
      "\u001b[0;32m/tmp/ipykernel_8284/2588218262.py\u001b[0m in \u001b[0;36m<module>\u001b[0;34m\u001b[0m\n\u001b[0;32m----> 1\u001b[0;31m \u001b[0mdata\u001b[0m\u001b[0;34m[\u001b[0m\u001b[0;34m'timestamp'\u001b[0m\u001b[0;34m]\u001b[0m\u001b[0;34m.\u001b[0m\u001b[0mshow\u001b[0m\u001b[0;34m(\u001b[0m\u001b[0;36m5\u001b[0m\u001b[0;34m,\u001b[0m \u001b[0mtruncate\u001b[0m\u001b[0;34m=\u001b[0m\u001b[0;32mFalse\u001b[0m\u001b[0;34m)\u001b[0m\u001b[0;34m\u001b[0m\u001b[0;34m\u001b[0m\u001b[0m\n\u001b[0m",
      "\u001b[0;31mTypeError\u001b[0m: 'Column' object is not callable"
     ]
    }
   ],
   "source": [
    "data['timestamp'].show(5, truncate=False)"
   ]
  },
  {
   "cell_type": "code",
   "execution_count": null,
   "id": "8034d9b6",
   "metadata": {},
   "outputs": [],
   "source": []
  }
 ],
 "metadata": {
  "kernelspec": {
   "display_name": "Python 3 (ipykernel)",
   "language": "python",
   "name": "python3"
  },
  "language_info": {
   "codemirror_mode": {
    "name": "ipython",
    "version": 3
   },
   "file_extension": ".py",
   "mimetype": "text/x-python",
   "name": "python",
   "nbconvert_exporter": "python",
   "pygments_lexer": "ipython3",
   "version": "3.8.10"
  }
 },
 "nbformat": 4,
 "nbformat_minor": 5
}
