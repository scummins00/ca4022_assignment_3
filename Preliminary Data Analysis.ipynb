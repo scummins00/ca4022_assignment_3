{
 "cells": [
  {
   "cell_type": "markdown",
   "id": "fbfd93d0",
   "metadata": {},
   "source": [
    "# Introduction\n",
    "The following jupyter notebook aims to perform some preliminary data analysis for our STEM (Science, Technology, Engineering, Math) dataset which can be found [Here](https://www.kaggle.com/jackogozaly/data-science-and-stem-salaries) . We will perform the following tasks:\n",
    "* **Missing Values**\n",
    "    * Test for missing values \n",
    "    * Understand where missing values occur\n",
    "    * Understand the impact of missing values\n",
    "* **Data Distribution**\n",
    "    * How many companies?\n",
    "    * Most represented companies\n",
    "    * Distribution of people across America\n",
    "    * Gender ratios\n",
    "    * Ethnicity ratios\n",
    "    * Understand the average salary"
   ]
  },
  {
   "cell_type": "code",
   "execution_count": 2,
   "id": "d8479c60",
   "metadata": {},
   "outputs": [],
   "source": [
    "import pandas as pd\n",
    "import numpy as np\n",
    "import matplotlib.pyplot as plt"
   ]
  },
  {
   "cell_type": "code",
   "execution_count": 21,
   "id": "2d3ae3f9",
   "metadata": {},
   "outputs": [
    {
     "data": {
      "text/html": [
       "<div>\n",
       "<style scoped>\n",
       "    .dataframe tbody tr th:only-of-type {\n",
       "        vertical-align: middle;\n",
       "    }\n",
       "\n",
       "    .dataframe tbody tr th {\n",
       "        vertical-align: top;\n",
       "    }\n",
       "\n",
       "    .dataframe thead th {\n",
       "        text-align: right;\n",
       "    }\n",
       "</style>\n",
       "<table border=\"1\" class=\"dataframe\">\n",
       "  <thead>\n",
       "    <tr style=\"text-align: right;\">\n",
       "      <th></th>\n",
       "      <th>timestamp</th>\n",
       "      <th>company</th>\n",
       "      <th>level</th>\n",
       "      <th>title</th>\n",
       "      <th>totalyearlycompensation</th>\n",
       "      <th>location</th>\n",
       "      <th>yearsofexperience</th>\n",
       "      <th>yearsatcompany</th>\n",
       "      <th>tag</th>\n",
       "      <th>basesalary</th>\n",
       "      <th>...</th>\n",
       "      <th>Doctorate_Degree</th>\n",
       "      <th>Highschool</th>\n",
       "      <th>Some_College</th>\n",
       "      <th>Race_Asian</th>\n",
       "      <th>Race_White</th>\n",
       "      <th>Race_Two_Or_More</th>\n",
       "      <th>Race_Black</th>\n",
       "      <th>Race_Hispanic</th>\n",
       "      <th>Race</th>\n",
       "      <th>Education</th>\n",
       "    </tr>\n",
       "  </thead>\n",
       "  <tbody>\n",
       "    <tr>\n",
       "      <th>0</th>\n",
       "      <td>6/7/2017 11:33:27</td>\n",
       "      <td>Oracle</td>\n",
       "      <td>L3</td>\n",
       "      <td>Product Manager</td>\n",
       "      <td>127000</td>\n",
       "      <td>Redwood City, CA</td>\n",
       "      <td>1.5</td>\n",
       "      <td>1.5</td>\n",
       "      <td>NaN</td>\n",
       "      <td>107000.0</td>\n",
       "      <td>...</td>\n",
       "      <td>0</td>\n",
       "      <td>0</td>\n",
       "      <td>0</td>\n",
       "      <td>0</td>\n",
       "      <td>0</td>\n",
       "      <td>0</td>\n",
       "      <td>0</td>\n",
       "      <td>0</td>\n",
       "      <td>NaN</td>\n",
       "      <td>NaN</td>\n",
       "    </tr>\n",
       "    <tr>\n",
       "      <th>1</th>\n",
       "      <td>6/10/2017 17:11:29</td>\n",
       "      <td>eBay</td>\n",
       "      <td>SE 2</td>\n",
       "      <td>Software Engineer</td>\n",
       "      <td>100000</td>\n",
       "      <td>San Francisco, CA</td>\n",
       "      <td>5.0</td>\n",
       "      <td>3.0</td>\n",
       "      <td>NaN</td>\n",
       "      <td>0.0</td>\n",
       "      <td>...</td>\n",
       "      <td>0</td>\n",
       "      <td>0</td>\n",
       "      <td>0</td>\n",
       "      <td>0</td>\n",
       "      <td>0</td>\n",
       "      <td>0</td>\n",
       "      <td>0</td>\n",
       "      <td>0</td>\n",
       "      <td>NaN</td>\n",
       "      <td>NaN</td>\n",
       "    </tr>\n",
       "    <tr>\n",
       "      <th>2</th>\n",
       "      <td>6/11/2017 14:53:57</td>\n",
       "      <td>Amazon</td>\n",
       "      <td>L7</td>\n",
       "      <td>Product Manager</td>\n",
       "      <td>310000</td>\n",
       "      <td>Seattle, WA</td>\n",
       "      <td>8.0</td>\n",
       "      <td>0.0</td>\n",
       "      <td>NaN</td>\n",
       "      <td>155000.0</td>\n",
       "      <td>...</td>\n",
       "      <td>0</td>\n",
       "      <td>0</td>\n",
       "      <td>0</td>\n",
       "      <td>0</td>\n",
       "      <td>0</td>\n",
       "      <td>0</td>\n",
       "      <td>0</td>\n",
       "      <td>0</td>\n",
       "      <td>NaN</td>\n",
       "      <td>NaN</td>\n",
       "    </tr>\n",
       "    <tr>\n",
       "      <th>3</th>\n",
       "      <td>6/17/2017 0:23:14</td>\n",
       "      <td>Apple</td>\n",
       "      <td>M1</td>\n",
       "      <td>Software Engineering Manager</td>\n",
       "      <td>372000</td>\n",
       "      <td>Sunnyvale, CA</td>\n",
       "      <td>7.0</td>\n",
       "      <td>5.0</td>\n",
       "      <td>NaN</td>\n",
       "      <td>157000.0</td>\n",
       "      <td>...</td>\n",
       "      <td>0</td>\n",
       "      <td>0</td>\n",
       "      <td>0</td>\n",
       "      <td>0</td>\n",
       "      <td>0</td>\n",
       "      <td>0</td>\n",
       "      <td>0</td>\n",
       "      <td>0</td>\n",
       "      <td>NaN</td>\n",
       "      <td>NaN</td>\n",
       "    </tr>\n",
       "    <tr>\n",
       "      <th>4</th>\n",
       "      <td>6/20/2017 10:58:51</td>\n",
       "      <td>Microsoft</td>\n",
       "      <td>60</td>\n",
       "      <td>Software Engineer</td>\n",
       "      <td>157000</td>\n",
       "      <td>Mountain View, CA</td>\n",
       "      <td>5.0</td>\n",
       "      <td>3.0</td>\n",
       "      <td>NaN</td>\n",
       "      <td>0.0</td>\n",
       "      <td>...</td>\n",
       "      <td>0</td>\n",
       "      <td>0</td>\n",
       "      <td>0</td>\n",
       "      <td>0</td>\n",
       "      <td>0</td>\n",
       "      <td>0</td>\n",
       "      <td>0</td>\n",
       "      <td>0</td>\n",
       "      <td>NaN</td>\n",
       "      <td>NaN</td>\n",
       "    </tr>\n",
       "  </tbody>\n",
       "</table>\n",
       "<p>5 rows × 29 columns</p>\n",
       "</div>"
      ],
      "text/plain": [
       "            timestamp    company level                         title  \\\n",
       "0   6/7/2017 11:33:27     Oracle    L3               Product Manager   \n",
       "1  6/10/2017 17:11:29       eBay  SE 2             Software Engineer   \n",
       "2  6/11/2017 14:53:57     Amazon    L7               Product Manager   \n",
       "3   6/17/2017 0:23:14      Apple    M1  Software Engineering Manager   \n",
       "4  6/20/2017 10:58:51  Microsoft    60             Software Engineer   \n",
       "\n",
       "   totalyearlycompensation           location  yearsofexperience  \\\n",
       "0                   127000   Redwood City, CA                1.5   \n",
       "1                   100000  San Francisco, CA                5.0   \n",
       "2                   310000        Seattle, WA                8.0   \n",
       "3                   372000      Sunnyvale, CA                7.0   \n",
       "4                   157000  Mountain View, CA                5.0   \n",
       "\n",
       "   yearsatcompany  tag  basesalary  ...  Doctorate_Degree  Highschool  \\\n",
       "0             1.5  NaN    107000.0  ...                 0           0   \n",
       "1             3.0  NaN         0.0  ...                 0           0   \n",
       "2             0.0  NaN    155000.0  ...                 0           0   \n",
       "3             5.0  NaN    157000.0  ...                 0           0   \n",
       "4             3.0  NaN         0.0  ...                 0           0   \n",
       "\n",
       "  Some_College Race_Asian  Race_White  Race_Two_Or_More  Race_Black  \\\n",
       "0            0          0           0                 0           0   \n",
       "1            0          0           0                 0           0   \n",
       "2            0          0           0                 0           0   \n",
       "3            0          0           0                 0           0   \n",
       "4            0          0           0                 0           0   \n",
       "\n",
       "   Race_Hispanic  Race  Education  \n",
       "0              0   NaN        NaN  \n",
       "1              0   NaN        NaN  \n",
       "2              0   NaN        NaN  \n",
       "3              0   NaN        NaN  \n",
       "4              0   NaN        NaN  \n",
       "\n",
       "[5 rows x 29 columns]"
      ]
     },
     "execution_count": 21,
     "metadata": {},
     "output_type": "execute_result"
    }
   ],
   "source": [
    "df = pd.read_csv('data/Levels_Fyi_Salary_Data.csv')\n",
    "df.head()"
   ]
  },
  {
   "cell_type": "markdown",
   "id": "d0e3d868",
   "metadata": {},
   "source": [
    "## Missing Values"
   ]
  },
  {
   "cell_type": "code",
   "execution_count": 22,
   "id": "56bd778b",
   "metadata": {},
   "outputs": [
    {
     "name": "stdout",
     "output_type": "stream",
     "text": [
      "Column: \"timestamp\" | Total Missing: 0 | Missing: 0.00%\n",
      "Column: \"company\" | Total Missing: 5 | Missing: 0.01%\n",
      "Column: \"level\" | Total Missing: 119 | Missing: 0.19%\n",
      "Column: \"title\" | Total Missing: 0 | Missing: 0.00%\n",
      "Column: \"totalyearlycompensation\" | Total Missing: 0 | Missing: 0.00%\n",
      "Column: \"location\" | Total Missing: 0 | Missing: 0.00%\n",
      "Column: \"yearsofexperience\" | Total Missing: 0 | Missing: 0.00%\n",
      "Column: \"yearsatcompany\" | Total Missing: 0 | Missing: 0.00%\n",
      "Column: \"tag\" | Total Missing: 854 | Missing: 1.36%\n",
      "Column: \"basesalary\" | Total Missing: 0 | Missing: 0.00%\n",
      "Column: \"stockgrantvalue\" | Total Missing: 0 | Missing: 0.00%\n",
      "Column: \"bonus\" | Total Missing: 0 | Missing: 0.00%\n",
      "Column: \"gender\" | Total Missing: 19540 | Missing: 31.19%\n",
      "Column: \"otherdetails\" | Total Missing: 22505 | Missing: 35.93%\n",
      "Column: \"cityid\" | Total Missing: 0 | Missing: 0.00%\n",
      "Column: \"dmaid\" | Total Missing: 2 | Missing: 0.00%\n",
      "Column: \"rowNumber\" | Total Missing: 0 | Missing: 0.00%\n",
      "Column: \"Masters_Degree\" | Total Missing: 0 | Missing: 0.00%\n",
      "Column: \"Bachelors_Degree\" | Total Missing: 0 | Missing: 0.00%\n",
      "Column: \"Doctorate_Degree\" | Total Missing: 0 | Missing: 0.00%\n",
      "Column: \"Highschool\" | Total Missing: 0 | Missing: 0.00%\n",
      "Column: \"Some_College\" | Total Missing: 0 | Missing: 0.00%\n",
      "Column: \"Race_Asian\" | Total Missing: 0 | Missing: 0.00%\n",
      "Column: \"Race_White\" | Total Missing: 0 | Missing: 0.00%\n",
      "Column: \"Race_Two_Or_More\" | Total Missing: 0 | Missing: 0.00%\n",
      "Column: \"Race_Black\" | Total Missing: 0 | Missing: 0.00%\n",
      "Column: \"Race_Hispanic\" | Total Missing: 0 | Missing: 0.00%\n",
      "Column: \"Race\" | Total Missing: 40215 | Missing: 64.20%\n",
      "Column: \"Education\" | Total Missing: 32272 | Missing: 51.52%\n"
     ]
    }
   ],
   "source": [
    "#Let's find the portion of data with missing values with respect to each column\n",
    "\n",
    "for col in df.columns:\n",
    "    tot_missing = (df[df[col].isna() == True].shape)[0]\n",
    "    tot = (df.shape)[0]\n",
    "    print(f'Column: \\\"{col}\\\" | Total Missing: {tot_missing} | Missing: {(tot_missing/tot)*100:.2f}%')"
   ]
  },
  {
   "cell_type": "markdown",
   "id": "e6db7a0d",
   "metadata": {},
   "source": [
    "Analysis of missing values in the data reveal that overall, information on general aspects of a subject's job such as salary, experience, company, level, etc, are consistently made available, whilst highly personal subject information which is considered sensitive, is often kept private. Features with significant missing values include:\n",
    "\n",
    "* Race - **64.2% Missing**\n",
    "* Education - **51.5% Missing**\n",
    "* Gender - **31.2% Missing**\n",
    "\n",
    "The feature 'otherdetails' is missing 35.9% of the time. Let's investigate the significance of this feature further:"
   ]
  },
  {
   "cell_type": "code",
   "execution_count": 23,
   "id": "097e43d0",
   "metadata": {},
   "outputs": [
    {
     "data": {
      "text/plain": [
       "array(['\"Near Boston\" was considered a middle pay grade at Mozilla (Remote), Race: White, Academic Level: Some college coursework completed',\n",
       "       '\"Stock grant\" amount reflects how much I\\'ll vest this year, Race: Asian, Academic Level: Master’s degree',\n",
       "       '\"bonus\" is on call pay - Masters', ...,\n",
       "       '“Staff Solutions Consultant”',\n",
       "       '€3k signing bonus, 1500 stocks grant, Title: Backend Engineer, Academic Level: Bachelor’s degree',\n",
       "       '€4k Relocation bonus, Race: Asian, Academic Level: Master’s degree'],\n",
       "      dtype='<U762')"
      ]
     },
     "execution_count": 23,
     "metadata": {},
     "output_type": "execute_result"
    }
   ],
   "source": [
    "#Let's display some values in the 'otherdetails' column\n",
    "np.unique(list(df['otherdetails'].values))"
   ]
  },
  {
   "cell_type": "markdown",
   "id": "7eba23ea",
   "metadata": {},
   "source": [
    "It appears relevant information is being displayed in the 'otherdetails' column. We should investigate if Race information for users can be found in 'otherdetails' that can't be found in 'race'."
   ]
  },
  {
   "cell_type": "code",
   "execution_count": 24,
   "id": "da860736",
   "metadata": {},
   "outputs": [
    {
     "name": "stdout",
     "output_type": "stream",
     "text": [
      "Column: \"timestamp\" | Type: <class 'str'>\n",
      "Column: \"company\" | Type: <class 'str'>\n",
      "Column: \"level\" | Type: <class 'str'>\n",
      "Column: \"title\" | Type: <class 'str'>\n",
      "Column: \"totalyearlycompensation\" | Type: <class 'numpy.int64'>\n",
      "Column: \"location\" | Type: <class 'str'>\n",
      "Column: \"yearsofexperience\" | Type: <class 'numpy.float64'>\n",
      "Column: \"yearsatcompany\" | Type: <class 'numpy.float64'>\n",
      "Column: \"tag\" | Type: <class 'float'>\n",
      "Column: \"basesalary\" | Type: <class 'numpy.float64'>\n",
      "Column: \"stockgrantvalue\" | Type: <class 'numpy.float64'>\n",
      "Column: \"bonus\" | Type: <class 'numpy.float64'>\n",
      "Column: \"gender\" | Type: <class 'float'>\n",
      "Column: \"otherdetails\" | Type: <class 'float'>\n",
      "Column: \"cityid\" | Type: <class 'numpy.int64'>\n",
      "Column: \"dmaid\" | Type: <class 'numpy.float64'>\n",
      "Column: \"rowNumber\" | Type: <class 'numpy.int64'>\n",
      "Column: \"Masters_Degree\" | Type: <class 'numpy.int64'>\n",
      "Column: \"Bachelors_Degree\" | Type: <class 'numpy.int64'>\n",
      "Column: \"Doctorate_Degree\" | Type: <class 'numpy.int64'>\n",
      "Column: \"Highschool\" | Type: <class 'numpy.int64'>\n",
      "Column: \"Some_College\" | Type: <class 'numpy.int64'>\n",
      "Column: \"Race_Asian\" | Type: <class 'numpy.int64'>\n",
      "Column: \"Race_White\" | Type: <class 'numpy.int64'>\n",
      "Column: \"Race_Two_Or_More\" | Type: <class 'numpy.int64'>\n",
      "Column: \"Race_Black\" | Type: <class 'numpy.int64'>\n",
      "Column: \"Race_Hispanic\" | Type: <class 'numpy.int64'>\n",
      "Column: \"Race\" | Type: <class 'float'>\n",
      "Column: \"Education\" | Type: <class 'float'>\n"
     ]
    }
   ],
   "source": [
    "#Let's investigate the 'type' of values found in each column\n",
    "for col in df.columns:\n",
    "    print(f'Column: \"{col}\" | Type: {type(df[col][0])}')"
   ]
  },
  {
   "cell_type": "markdown",
   "id": "97ff563f",
   "metadata": {},
   "source": [
    "It's strange that our 4 columns missing the most values, namely: '*otherdetails*','*gender*', '*race*', and '*education*' are all of type 'float' despite actually being 'string' values."
   ]
  },
  {
   "cell_type": "code",
   "execution_count": 53,
   "id": "663605ea",
   "metadata": {},
   "outputs": [],
   "source": [
    "#Let's see if information that can't be found in other columns can be found in 'otherdetails'\n",
    "c, d=[], []\n",
    "for index, row in df.iterrows():\n",
    "    if 'Race' in str(row.otherdetails):\n",
    "        if row.Race is np.nan:\n",
    "            c.append(row)\n",
    "    if 'Academic Level' in str(row.otherdetails):\n",
    "        if row.Education is np.nan:\n",
    "            d.append(row)"
   ]
  },
  {
   "cell_type": "code",
   "execution_count": 79,
   "id": "e52024cc",
   "metadata": {},
   "outputs": [
    {
     "name": "stdout",
     "output_type": "stream",
     "text": [
      "Race: American Indian or Alaska Native, Academic Level: Bachelor’s degree\n",
      "\n",
      "Number of rows with NaN in 'Race' but race info in 'otherdetails': 102\n",
      "Portion accounted for: 1.13%\n"
     ]
    }
   ],
   "source": [
    "#let's look at Race information retained in 'otherdetails' not found in 'Race'\n",
    "print(c[0].otherdetails)\n",
    "print()\n",
    "tot_race = (df['Race'].dropna()).shape[0]\n",
    "print(f'Number of rows with NaN in \\'Race\\' but race info in \\'otherdetails\\': {len(c)}')\n",
    "print(f'Portion accounted for: {(len(d)/tot_race)*100:.2f}%')"
   ]
  },
  {
   "cell_type": "code",
   "execution_count": 81,
   "id": "e9b95d4d",
   "metadata": {},
   "outputs": [
    {
     "name": "stdout",
     "output_type": "stream",
     "text": [
      "Title: Program Manager I, Race: White, Academic Level: Technical or occupational certificate\n",
      "\n",
      "Number of rows with NaN in 'Education' but education info in 'otherdetails': 254\n",
      "Portion accounted for: 0.84%\n"
     ]
    }
   ],
   "source": [
    "#let's look at education information retained in 'otherdetails' not found in 'Education'\n",
    "print(d[200].otherdetails)\n",
    "print()\n",
    "tot_ed = (df['Education'].dropna()).shape[0]\n",
    "print(f'Number of rows with NaN in \\'Education\\' but education info in \\'otherdetails\\': {len(d)}')\n",
    "print(f'Portion accounted for: {(len(d)/tot_ed)*100:.2f}%')"
   ]
  },
  {
   "cell_type": "markdown",
   "id": "a0f31809",
   "metadata": {},
   "source": [
    "### Findings\n",
    "\n",
    "We can see that the portion of missing information in 'education' and 'race' that can be accounted for in 'otherdetails' is less than **2%**. The information is displayed in an unstructured manner, meaning extraction would take considerable effort involving complex string matching functions.\n",
    "\n",
    "There is a **considerable** amount of information missing for subjects regarding 'education', 'gender', and 'race'. Through investigation, we conclude that this is an intrinsic property of the data, and is not caused by error. Cases where 'education', and 'race' information can be found in 'otherdetails' and not in the correct column can be considered edge cases that do not fit into a \"regular\" category. This can be seen in the example above in which a subject describes their race as 'American Indian or Alaska Native', which is clearly not 'Asian', 'Hispanic', 'Black', or 'White'. As this data was scraped, it is likely that edge cases were not accounted for.\n",
    "\n",
    "The same can be said for 'academic level'. Subjects describing their academic level as 'Associate Degree' or 'Technical or occupational certificate' do not fall under categories of 'Bachelors Degree', 'Masters Degree', 'PhD', or 'Doctorate'.\n",
    "\n",
    "---"
   ]
  },
  {
   "cell_type": "markdown",
   "id": "7477af04",
   "metadata": {},
   "source": [
    "## Data Distribution"
   ]
  },
  {
   "cell_type": "code",
   "execution_count": 127,
   "id": "d648ca5f",
   "metadata": {},
   "outputs": [
    {
     "name": "stdout",
     "output_type": "stream",
     "text": [
      "There are a total of: 1632 unique companies\n"
     ]
    }
   ],
   "source": [
    "#How many unique companies do we have\n",
    "num_comp = len(df['company'].unique())\n",
    "print(f'There are a total of: {num_comp} unique companies') \n",
    "\n",
    "#Which company is most prevelant\n",
    "comps = {}\n",
    "for comp in  df['company']:\n",
    "    if comp not in comps:\n",
    "        comps[comp] = 1\n",
    "    else:\n",
    "        comps[comp] = comps[comp] + 1"
   ]
  },
  {
   "cell_type": "code",
   "execution_count": 144,
   "id": "3dac9fcc",
   "metadata": {},
   "outputs": [
    {
     "data": {
      "image/png": "[encoded data removed]",
      "text/plain": [
       "<Figure size 720x504 with 1 Axes>"
      ]
     },
     "metadata": {
      "needs_background": "light"
     },
     "output_type": "display_data"
    }
   ],
   "source": [
    "#Top 10 companies represented in this data\n",
    "sorted_dict = dict(sorted(comps.items(), key=lambda item: item[1], reverse=True))\n",
    "plt.figure(figsize=(10,7))\n",
    "plt.bar(range(11), list(sorted_dict.values())[:11], align='center')\n",
    "plt.xticks(range(11), list(sorted_dict.keys())[:11])\n",
    "plt.title('Top 10 Companies Represented')\n",
    "plt.xlabel('Company')\n",
    "plt.ylabel('Number of Entries')\n",
    "plt.show()"
   ]
  },
  {
   "cell_type": "code",
   "execution_count": 141,
   "id": "bf661f78",
   "metadata": {},
   "outputs": [
    {
     "name": "stdout",
     "output_type": "stream",
     "text": [
      "There are a total of: 129 unique states\n"
     ]
    }
   ],
   "source": [
    "# Let's better understand our distribution of people across states\n",
    "states = np.array([state.split(',')[-1] for state in (df['location'])])\n",
    "num_states = len(np.unique(states))\n",
    "print(f'There are a total of: {num_states} unique states') \n",
    "\n",
    "#Which state is most prevelant\n",
    "state_dict = {}\n",
    "for state in states:\n",
    "    if state not in state_dict:\n",
    "        state_dict[state] = 1\n",
    "    else:\n",
    "        state_dict[state] += 1"
   ]
  },
  {
   "cell_type": "code",
   "execution_count": 145,
   "id": "af856c1b",
   "metadata": {},
   "outputs": [
    {
     "data": {
      "image/png": "[encoded data removed]",
      "text/plain": [
       "<Figure size 864x504 with 1 Axes>"
      ]
     },
     "metadata": {
      "needs_background": "light"
     },
     "output_type": "display_data"
    }
   ],
   "source": [
    "#Top 10 states represented in this data\n",
    "sorted_dict = dict(sorted(state_dict.items(), key=lambda item: item[1], reverse=True))\n",
    "plt.figure(figsize=(12,7))\n",
    "plt.bar(range(11), list(sorted_dict.values())[:11], align='center')\n",
    "plt.xticks(range(11), list(sorted_dict.keys())[:11])\n",
    "plt.title('Top 10 States Represented')\n",
    "plt.xlabel('State')\n",
    "plt.ylabel('Number of Entries')\n",
    "plt.show()"
   ]
  },
  {
   "cell_type": "code",
   "execution_count": 140,
   "id": "cb926f97",
   "metadata": {},
   "outputs": [
    {
     "data": {
      "text/plain": [
       "(326, 29)"
      ]
     },
     "execution_count": 140,
     "metadata": {},
     "output_type": "execute_result"
    }
   ],
   "source": [
    "#Number of rows containing Ireland\n",
    "df[df['location'].str.contains('Ireland')].shape"
   ]
  },
  {
   "cell_type": "markdown",
   "id": "02f8baf9",
   "metadata": {},
   "source": [
    "As expected, the global tech corporations such as Amazon, Microsoft, and Google represent the vaste majority of subjects collected in this data. As well as that, California and Washington represent the majority states represented in this data. \n",
    "\n",
    "Unexpectedly, this data holds information of subjetcs working outside of America. This opens a new opportunity to compare salaries between Americans and Europeans with similar job positions. Interestingly, **326 subjects claim to work in Ireland**. "
   ]
  },
  {
   "cell_type": "code",
   "execution_count": 193,
   "id": "20eb9711",
   "metadata": {},
   "outputs": [],
   "source": [
    "#Let's see the ethnic makeup of our data\n",
    "\n",
    "#Which races are over and under represented\n",
    "races = {}\n",
    "for race in df['Race'].dropna():\n",
    "    if race not in races:\n",
    "        races[race] = 1\n",
    "    else:\n",
    "        races[race] = races[race] + 1"
   ]
  },
  {
   "cell_type": "code",
   "execution_count": 155,
   "id": "36b41a42",
   "metadata": {},
   "outputs": [
    {
     "data": {
      "image/png": "[encoded data removed]",
      "text/plain": [
       "<Figure size 504x504 with 1 Axes>"
      ]
     },
     "metadata": {
      "needs_background": "light"
     },
     "output_type": "display_data"
    }
   ],
   "source": [
    "#Ethnicity distribution\n",
    "sorted_dict = dict(sorted(races.items(), key=lambda item: item[1], reverse=True))\n",
    "plt.figure(figsize=(7,7))\n",
    "plt.bar(range(len(sorted_dict)), list(sorted_dict.values()), align='center')\n",
    "plt.xticks(range(len(sorted_dict)), list(sorted_dict.keys()))\n",
    "plt.title('Ethnic Representation')\n",
    "plt.xlabel('Ethnicity')\n",
    "plt.ylabel('Number of Entries')\n",
    "plt.show()"
   ]
  },
  {
   "cell_type": "code",
   "execution_count": 194,
   "id": "a8e2f68a",
   "metadata": {},
   "outputs": [],
   "source": [
    "#Let's see the gender makeup of our data\n",
    "\n",
    "genders = {}\n",
    "for gender in df['gender'].dropna():\n",
    "    if gender not in genders:\n",
    "        genders[gender] = 1\n",
    "    else:\n",
    "        genders[gender] = genders[gender] + 1"
   ]
  },
  {
   "cell_type": "code",
   "execution_count": 192,
   "id": "ca49aa8b",
   "metadata": {},
   "outputs": [
    {
     "data": {
      "image/png": "[encoded data removed]",
      "text/plain": [
       "<Figure size 504x504 with 1 Axes>"
      ]
     },
     "metadata": {
      "needs_background": "light"
     },
     "output_type": "display_data"
    }
   ],
   "source": [
    "#Ethnicity distribution\n",
    "sorted_dict = dict(sorted(genders.items(), key=lambda item: item[1], reverse=True))\n",
    "plt.figure(figsize=(7,7))\n",
    "plt.bar(range(len(sorted_dict)-1), list(sorted_dict.values())[:-1], align='center')\n",
    "plt.xticks(range(len(sorted_dict)-1), list(sorted_dict.keys())[:-1])\n",
    "plt.title('Gender Representation')\n",
    "plt.xlabel('Sex')\n",
    "plt.ylabel('Number of Entries')\n",
    "plt.show()"
   ]
  },
  {
   "cell_type": "markdown",
   "id": "f9d63785",
   "metadata": {},
   "source": [
    "From these graph we can see that Hispanic and Black subjects are under-represented in this dataset. Asian and White subjects make up the majority of users. In future analysis, these factors should be accounted for. To be precise, inference on base salary with respect to black or hispanic subjects should **not** be considered accurate.\n",
    "\n",
    "As well as this, females and other sexes are highly under-represented in comparison to males. Again, this should be accounted for."
   ]
  },
  {
   "cell_type": "code",
   "execution_count": 173,
   "id": "e4a04a38",
   "metadata": {},
   "outputs": [
    {
     "data": {
      "text/plain": [
       "count    60338.000000\n",
       "mean       141.906670\n",
       "std         56.296747\n",
       "min          1.000000\n",
       "25%        110.000000\n",
       "50%        141.000000\n",
       "75%        170.000000\n",
       "max       1659.870000\n",
       "Name: basesalary, dtype: float64"
      ]
     },
     "execution_count": 173,
     "metadata": {},
     "output_type": "execute_result"
    }
   ],
   "source": [
    "#Remove salaries equating to 0 and divide them by 1000 for presentability\n",
    "sal = (df[df['basesalary'] != 0.0]['basesalary']/1000)\n",
    "sal.describe()"
   ]
  },
  {
   "cell_type": "code",
   "execution_count": 185,
   "id": "0689fd2b",
   "metadata": {},
   "outputs": [
    {
     "data": {
      "image/png": "[encoded data removed]",
      "text/plain": [
       "<Figure size 720x504 with 1 Axes>"
      ]
     },
     "metadata": {
      "needs_background": "light"
     },
     "output_type": "display_data"
    }
   ],
   "source": [
    "#Now let's finally understand the average Salary\n",
    "plt.figure(figsize=(10,7))\n",
    "n, bins, patches = plt.hist(sal, 150, density=True, alpha=0.75)\n",
    "\n",
    "plt.xlabel('Salary in Thousands')\n",
    "plt.ylabel('Proportion')\n",
    "plt.title('Histogram of Base Salary')\n",
    "plt.xlim(0, 600)\n",
    "plt.grid(True)\n",
    "plt.show()"
   ]
  },
  {
   "cell_type": "markdown",
   "id": "78185d82",
   "metadata": {},
   "source": [
    "### Findings\n",
    "\n",
    "In our data distribution analysis we found that fristly, the multinational conglomerate tech corporations are highly over represented. This is to be expected because of the sheer volume of employees they have. We also find that California, America's 'Tech Capital' and home to Silicon Valley, is also highly over represented, which again, is expected. It was interesting to find that not only American states are found in this data. Various European countries including Ireland, have multiple entries.\n",
    "\n",
    "Following from this, we analysed the representation of ethnicities and sex. We find that black and hispanic subjects are poorly represented in this data, whilst asian and white subjects are highly represented. We note that these factors should be accounted for when making any future inference regarding ethnicity. Males are overly represented in comparison to females and other sexes. This is an issue regularly identified in data of this nature. Unfortunately, all of the biases above are intrinsic properties of our dataset.\n",
    "\n",
    "We conclude our analysis by examining the overall distribution of base salary. The mean salary is 141,000 dollars which is roughly 123,000 Euro. This figure is quite high. Again, this value may be skewed by the over-representation of companies, sexes, and ethnicities. In our case, this figure may not represent exepected salary for under-represented companies, and minorities. The distribution is somewhat right skewed, meaning there are outliers receiving much higher salaries. The highest earner has a base salary of 1,659,000, or 1.6 million dollars.\n",
    "\n",
    "### Considerations for Future Analysis\n",
    "\n",
    "* Understand that in this analysis, the type values for columns appear to be inconsistent.\n",
    "* Understand the high quantity of missing values examined above\n",
    "* Understand the distribution of data and the under-representation of minorities.\n",
    "* Be aware that many entries have salary as 0. It is unclear why this is\n",
    "* Understand that the data includes employees outside of The United States\n",
    "* As we are planning to use CatBoost, categorical variables are more valuable to us than One-hot encoded vectors. You should consider removing one-hot encoded vectors for simplicity."
   ]
  }
 ],
 "metadata": {
  "kernelspec": {
   "display_name": "ca4022_assignment3",
   "language": "python",
   "name": "ca4022_assignment3"
  },
  "language_info": {
   "codemirror_mode": {
    "name": "ipython",
    "version": 3
   },
   "file_extension": ".py",
   "mimetype": "text/x-python",
   "name": "python",
   "nbconvert_exporter": "python",
   "pygments_lexer": "ipython3",
   "version": "3.8.12"
  }
 },
 "nbformat": 4,
 "nbformat_minor": 5
}
